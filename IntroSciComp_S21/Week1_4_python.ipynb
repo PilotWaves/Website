{
  "nbformat": 4,
  "nbformat_minor": 0,
  "metadata": {
    "kernelspec": {
      "display_name": "Python 3",
      "language": "python",
      "name": "python3"
    },
    "language_info": {
      "codemirror_mode": {
        "name": "ipython",
        "version": 3
      },
      "file_extension": ".py",
      "mimetype": "text/x-python",
      "name": "python",
      "nbconvert_exporter": "python",
      "pygments_lexer": "ipython3",
      "version": "3.8.5"
    },
    "colab": {
      "name": "Week1_4_python.ipynb",
      "provenance": [],
      "collapsed_sections": []
    }
  },
  "cells": [
    {
      "cell_type": "code",
      "metadata": {
        "id": "TyPhtPiC_xwI"
      },
      "source": [
        "import numpy as np"
      ],
      "execution_count": 1,
      "outputs": []
    },
    {
      "cell_type": "markdown",
      "metadata": {
        "id": "kuejx_Sn_xwL"
      },
      "source": [
        "# Week 1 Python Part 4:  Plotting and Other considerations\n",
        "\n",
        "## Pointers\n",
        "Before we start the lecture in earnest, lets talk about pointers.\n",
        "\n",
        "\"python gives you the illusion of safety until you accidentally chop your own leg off\" -- my brother in law\n",
        "\n",
        "In Python and other programming languages we have pointers for variable assignments, which basically allows you to use a single spot in memory for multiple variables.  This won't be an issue for single variables, but will be an issue for lists and arrays.  For example:"
      ]
    },
    {
      "cell_type": "code",
      "metadata": {
        "colab": {
          "base_uri": "https://localhost:8080/"
        },
        "id": "XB6B29BIkUrp",
        "outputId": "95f06bdb-7625-49b7-8714-12e9eb57af23"
      },
      "source": [
        "# Changing A1 is going to change A even though we did not want to\n",
        "A = np.array([[1,1], [1,1]])\n",
        "print('A = ',A, '\\n') # '\\n' adds a linebreak\n",
        "A1 = A\n",
        "A1[0,1] = 2\n",
        "print('A1 = ',A1)\n",
        "print('A = ', A)"
      ],
      "execution_count": 11,
      "outputs": [
        {
          "output_type": "stream",
          "text": [
            "A =  [[1 1]\n",
            " [1 1]] \n",
            "\n",
            "A1 =  [[1 2]\n",
            " [1 1]]\n",
            "A =  [[1 2]\n",
            " [1 1]]\n"
          ],
          "name": "stdout"
        }
      ]
    },
    {
      "cell_type": "code",
      "metadata": {
        "colab": {
          "base_uri": "https://localhost:8080/"
        },
        "id": "i_l4BegDl_OR",
        "outputId": "bb4bd452-9cc1-432e-a4fd-19d3e2bec400"
      },
      "source": [
        "# If we use copy(), we can change A1 without changing A\n",
        "A = np.array([[1,1], [1,1]])\n",
        "print('A = ',A, '\\n') # '\\n' adds a linebreak\n",
        "A1 = A.copy()\n",
        "A1[0,1] = 2\n",
        "print('A1 = ',A1)\n",
        "print('A = ', A)"
      ],
      "execution_count": 12,
      "outputs": [
        {
          "output_type": "stream",
          "text": [
            "A =  [[1 1]\n",
            " [1 1]] \n",
            "\n",
            "A1 =  [[1 2]\n",
            " [1 1]]\n",
            "A =  [[1 1]\n",
            " [1 1]]\n"
          ],
          "name": "stdout"
        }
      ]
    },
    {
      "cell_type": "markdown",
      "metadata": {
        "id": "t0JuTbhZmzh8"
      },
      "source": [
        "When in doubt .copy() it out."
      ]
    },
    {
      "cell_type": "markdown",
      "metadata": {
        "id": "wRP2POpTkTaq"
      },
      "source": [
        "## Rest of the lecture\n",
        "\n",
        "In this lecture, we will go over how to create graphs in python.  As an example, let's start by trying to plot the curve $y = x^2 - 3$.  \n",
        "\n",
        "The method python uses to create graphs is very similar to the way you were probably taught in your first algebra class.  You first make a list of x-values, then you plug each x-value into your formula to find a corresponding y-value, then you plot eachof these $(x, y)$ pairs as a point on your graph.  Once you plot enough points, you can then connect the dots in some way to make the picture look like a smooth curve.  \n",
        "\n",
        "To do this in python, you first need to create an array that will hold all of your $x$-values.  This array is usually one-dimensional, but it can also be a column vector (i.e., a 2D array with only one column), but not a row vector.  Unless you have a specific reason not to, it is common to just create evenly spaced $x$-values using either the `arange` or `linspace` functions.  For example, if we wanted to plot our curve between `x = -2` and `x = 3`, then we could use the code "
      ]
    },
    {
      "cell_type": "code",
      "metadata": {
        "id": "QDr7De1F_xwM",
        "outputId": "47da2ed9-ee71-4975-9b5d-3446cbf2f834"
      },
      "source": [
        "x = np.linspace(-2, 3, 10)\n",
        "print(x)"
      ],
      "execution_count": null,
      "outputs": [
        {
          "output_type": "stream",
          "text": [
            "[-2.         -1.44444444 -0.88888889 -0.33333333  0.22222222  0.77777778\n",
            "  1.33333333  1.88888889  2.44444444  3.        ]\n"
          ],
          "name": "stdout"
        }
      ]
    },
    {
      "cell_type": "markdown",
      "metadata": {
        "id": "PbaZZFNC_xwM"
      },
      "source": [
        "to make ten evenly spaced $x$-values.  Alternatively, we could use the code "
      ]
    },
    {
      "cell_type": "code",
      "metadata": {
        "id": "iZvjBX3a_xwN",
        "outputId": "f1a81085-1edb-4f4f-ebd5-5bb5a65470b5"
      },
      "source": [
        "x = np.arange(-2, 3.5, 0.5)\n",
        "print(x)"
      ],
      "execution_count": null,
      "outputs": [
        {
          "output_type": "stream",
          "text": [
            "[-2.  -1.5 -1.  -0.5  0.   0.5  1.   1.5  2.   2.5  3. ]\n"
          ],
          "name": "stdout"
        }
      ]
    },
    {
      "cell_type": "markdown",
      "metadata": {
        "id": "OXCitxac_xwN"
      },
      "source": [
        "to make the $x$-values 0.5 apart.  Notice that we had to use 3.5 instead of 3 as the second argument, because the `arange` function makes an array whose elements go up to, but do not include, that value.  \n",
        "\n",
        "The choice of $x$-values is up to you, but we will soon see that using more values will usually make your graph look nicer.  "
      ]
    },
    {
      "cell_type": "markdown",
      "metadata": {
        "id": "1ai822Ln_xwO"
      },
      "source": [
        "Next, you need to plug each of your $x$-values into the formula for whatever function you are trying to plot.  In our case, we want to plot $y = x^2 - 3$, so we need to square each entry of `x` and then subtract `3` from each entry.  This is a place where elementwise operations are extremely useful.  We can use the code "
      ]
    },
    {
      "cell_type": "code",
      "metadata": {
        "id": "qLRAnYZp_xwO",
        "outputId": "d9ef9503-3243-4696-986b-433699a36fdf"
      },
      "source": [
        "y = x ** 2 - 3\n",
        "print(y)"
      ],
      "execution_count": null,
      "outputs": [
        {
          "output_type": "stream",
          "text": [
            "[ 1.   -0.75 -2.   -2.75 -3.   -2.75 -2.   -0.75  1.    3.25  6.  ]\n"
          ],
          "name": "stdout"
        }
      ]
    },
    {
      "cell_type": "markdown",
      "metadata": {
        "id": "yzcwpUME_xwO"
      },
      "source": [
        "Now we have everything we need to make a graph.  We do so using the plot command. Unfortunately, the plot command is not part of the numpy package or core python, so we will have to import another package.  `plot` is part of the package `pyplot`, which is itself part of the package `matplotlib`.  We can therefore get access to `plot` with the code "
      ]
    },
    {
      "cell_type": "code",
      "metadata": {
        "id": "o6Vkdj4L_xwP"
      },
      "source": [
        "import matplotlib.pyplot"
      ],
      "execution_count": null,
      "outputs": []
    },
    {
      "cell_type": "markdown",
      "metadata": {
        "id": "lIb7sMmr_xwP"
      },
      "source": [
        "As with `numpy`, we would now have to prefix every function we use from `pyplot` with `matplotlib.pyplot.`.  This quickly gets annoying, so we will give the package a shorter name.  "
      ]
    },
    {
      "cell_type": "code",
      "metadata": {
        "id": "lrDtJ4ek_xwP"
      },
      "source": [
        "import matplotlib.pyplot as plt"
      ],
      "execution_count": null,
      "outputs": []
    },
    {
      "cell_type": "markdown",
      "metadata": {
        "id": "a-Xpe2fi_xwP"
      },
      "source": [
        "This is another line that we will see a lot in this class.  Any time you want to make graphs, you will need this import statement.  \n",
        "\n",
        "The basic syntax for plotting is `plt.plot(array_of_x_values, array_of_y_values)`.  For instance, "
      ]
    },
    {
      "cell_type": "code",
      "metadata": {
        "id": "uPH8Ru8__xwQ",
        "outputId": "8e26cf49-a434-4251-9012-8d2550226405"
      },
      "source": [
        "plt.plot(x, y)"
      ],
      "execution_count": null,
      "outputs": [
        {
          "output_type": "execute_result",
          "data": {
            "text/plain": [
              "[<matplotlib.lines.Line2D at 0x7f9fec6cf580>]"
            ]
          },
          "metadata": {
            "tags": []
          },
          "execution_count": 38
        },
        {
          "output_type": "display_data",
          "data": {
            "image/png": "[encoded data removed]",
            "text/plain": [
              "<Figure size 432x288 with 1 Axes>"
            ]
          },
          "metadata": {
            "tags": [],
            "needs_background": "light"
          }
        }
      ]
    },
    {
      "cell_type": "markdown",
      "metadata": {
        "id": "T-QcVfqW_xwQ"
      },
      "source": [
        "If you are working in a Jupyter notebook like this, the figure will show up in the document.  Otherwise, you need to include the command `plt.show()` after making your graph.  This will make the figure pop up in its own window or tab.  \n",
        "\n",
        "Notice that this isn't really a smooth curve.  Python has plotted the 11 points that we specified with the arrays x and y and then just connected the dots with straight lines.  "
      ]
    },
    {
      "cell_type": "markdown",
      "metadata": {
        "id": "r9SgKbGb_xwQ"
      },
      "source": [
        "## Line Properties\n",
        "### Color\n",
        "We can modify the appearance of this graph in many different ways.  For example, we might want to change the color of the line.  There are two ways to do so.  First, python has several shortcuts for colors.  For example, \"k\" stands for black, \"b\" stands for blue and \"r\" stands for red.  (You can find a list of all of these shortcuts in the [documentation for plot](https://matplotlib.org/3.3.3/api/_as_gen/matplotlib.pyplot.plot.html).)  If we wanted a red curve, we could use "
      ]
    },
    {
      "cell_type": "code",
      "metadata": {
        "id": "TL-TSIEF_xwS",
        "outputId": "5475fba2-f1a1-481a-9ef1-6db7d7dc6956"
      },
      "source": [
        "plt.plot(x, y, \"r\")"
      ],
      "execution_count": null,
      "outputs": [
        {
          "output_type": "execute_result",
          "data": {
            "text/plain": [
              "[<matplotlib.lines.Line2D at 0x7f9fec8811c0>]"
            ]
          },
          "metadata": {
            "tags": []
          },
          "execution_count": 39
        },
        {
          "output_type": "display_data",
          "data": {
            "image/png": "[encoded data removed]",
            "text/plain": [
              "<Figure size 432x288 with 1 Axes>"
            ]
          },
          "metadata": {
            "tags": [],
            "needs_background": "light"
          }
        }
      ]
    },
    {
      "cell_type": "markdown",
      "metadata": {
        "id": "5OTrv0pq_xwS"
      },
      "source": [
        "(Note that the quotation marks are necessary.  You can use single quotes, like `'r'`, or double quotes, like `\"r\"`, but you can't just use `r`.)  There are only a few pre-defined colors, but you can use any color you want by specifying the RGB value or a hex code.  (Any reasonable paint program or online color picker will give you these values; you don't have to remember them.)  As an example, the hex code #7E2F8E stands for a shade of purple.  You can specify this color with "
      ]
    },
    {
      "cell_type": "code",
      "metadata": {
        "id": "HL5olsEZ_xwS",
        "outputId": "858f97e3-ba16-4426-ca1d-d76062a8629d"
      },
      "source": [
        "plt.plot(x, y, color=\"#7E2F8E\")"
      ],
      "execution_count": null,
      "outputs": [
        {
          "output_type": "execute_result",
          "data": {
            "text/plain": [
              "[<matplotlib.lines.Line2D at 0x7f9fec6cff70>]"
            ]
          },
          "metadata": {
            "tags": []
          },
          "execution_count": 40
        },
        {
          "output_type": "display_data",
          "data": {
            "image/png": "[encoded data removed]",
            "text/plain": [
              "<Figure size 432x288 with 1 Axes>"
            ]
          },
          "metadata": {
            "tags": [],
            "needs_background": "light"
          }
        }
      ]
    },
    {
      "cell_type": "markdown",
      "metadata": {
        "id": "GQDILlFb_xwT"
      },
      "source": [
        "Again, notice the quotation marks.  They can be either single or double quotes, but they are not optional.  "
      ]
    },
    {
      "cell_type": "markdown",
      "metadata": {
        "id": "kzSQV5Cu_xwT"
      },
      "source": [
        "### Style\n",
        "You can also change the line style (for instance, dotted lines, dashed lines, etc.)  There are shortcut symbols for all of these.  You do not need to memorize the symbols - you can look them up in the python documentation for `plot` whenever necessary.  As an example, the shortcut `\":\"` stands for dotted line, so you can use "
      ]
    },
    {
      "cell_type": "code",
      "metadata": {
        "id": "vgvkSdQF_xwU",
        "outputId": "450a78d3-cad0-4992-8bf1-a21024058c73"
      },
      "source": [
        "plt.plot(x, y, \":\")"
      ],
      "execution_count": null,
      "outputs": [
        {
          "output_type": "execute_result",
          "data": {
            "text/plain": [
              "[<matplotlib.lines.Line2D at 0x7f9fec54a730>]"
            ]
          },
          "metadata": {
            "tags": []
          },
          "execution_count": 41
        },
        {
          "output_type": "display_data",
          "data": {
            "image/png": "[encoded data removed]",
            "text/plain": [
              "<Figure size 432x288 with 1 Axes>"
            ]
          },
          "metadata": {
            "tags": [],
            "needs_background": "light"
          }
        }
      ]
    },
    {
      "cell_type": "markdown",
      "metadata": {
        "id": "Yeac6bay_xwU"
      },
      "source": [
        "to make a dotted curve.  Shortcuts can be combined, so you could make a red dotted line with "
      ]
    },
    {
      "cell_type": "code",
      "metadata": {
        "id": "3W0UChdR_xwU",
        "outputId": "6283c1e3-e241-4dfd-ca99-1bd20d7b03f9"
      },
      "source": [
        "plt.plot(x, y, \"r:\")"
      ],
      "execution_count": null,
      "outputs": [
        {
          "output_type": "execute_result",
          "data": {
            "text/plain": [
              "[<matplotlib.lines.Line2D at 0x7f9fec51ca60>]"
            ]
          },
          "metadata": {
            "tags": []
          },
          "execution_count": 42
        },
        {
          "output_type": "display_data",
          "data": {
            "image/png": "[encoded data removed]",
            "text/plain": [
              "<Figure size 432x288 with 1 Axes>"
            ]
          },
          "metadata": {
            "tags": [],
            "needs_background": "light"
          }
        }
      ]
    },
    {
      "cell_type": "markdown",
      "metadata": {
        "id": "-FRXNpOM_xwV"
      },
      "source": [
        "You can also specify these with a more verbose syntax like so: "
      ]
    },
    {
      "cell_type": "code",
      "metadata": {
        "id": "bpJBQym9_xwV",
        "outputId": "a6f1aa0a-6da5-425e-9a49-0b8b1229a225"
      },
      "source": [
        "plt.plot(x, y, linestyle=\":\")"
      ],
      "execution_count": null,
      "outputs": [
        {
          "output_type": "execute_result",
          "data": {
            "text/plain": [
              "[<matplotlib.lines.Line2D at 0x7f9fec4eedc0>]"
            ]
          },
          "metadata": {
            "tags": []
          },
          "execution_count": 43
        },
        {
          "output_type": "display_data",
          "data": {
            "image/png": "[encoded data removed]",
            "text/plain": [
              "<Figure size 432x288 with 1 Axes>"
            ]
          },
          "metadata": {
            "tags": [],
            "needs_background": "light"
          }
        }
      ]
    },
    {
      "cell_type": "markdown",
      "metadata": {
        "id": "dEuR5plD_xwW"
      },
      "source": [
        "This is not as useful as with colors, because all of the line styles have a shortcut.  "
      ]
    },
    {
      "cell_type": "markdown",
      "metadata": {
        "id": "165DOXrx_xwW"
      },
      "source": [
        "### Marker Shape\n",
        "You can also specify the shape of the markers (i.e., the shape python puts at each data point).  As with the line style, there are shortcuts for all of the available shapes.  One particularly common one is \"o\", which makes circles at each point.  For instance, "
      ]
    },
    {
      "cell_type": "code",
      "metadata": {
        "id": "TAs_V1mR_xwW",
        "outputId": "a0ce361a-918f-46a8-8580-45cbefa18e8c"
      },
      "source": [
        "plt.plot(x, y, \"o\")"
      ],
      "execution_count": null,
      "outputs": [
        {
          "output_type": "execute_result",
          "data": {
            "text/plain": [
              "[<matplotlib.lines.Line2D at 0x7f9fec44f130>]"
            ]
          },
          "metadata": {
            "tags": []
          },
          "execution_count": 44
        },
        {
          "output_type": "display_data",
          "data": {
            "image/png": "[encoded data removed]",
            "text/plain": [
              "<Figure size 432x288 with 1 Axes>"
            ]
          },
          "metadata": {
            "tags": [],
            "needs_background": "light"
          }
        }
      ]
    },
    {
      "cell_type": "markdown",
      "metadata": {
        "id": "VIPFMgZA_xwW"
      },
      "source": [
        "You can combine any of these shortcuts.  For instance, the following code makes a black dotted line with circles at each point: "
      ]
    },
    {
      "cell_type": "code",
      "metadata": {
        "id": "AmREDgc3_xwX",
        "outputId": "20d851dd-cefc-455a-ad0c-6aa22a234509"
      },
      "source": [
        "plt.plot(x, y, \"k:o\")"
      ],
      "execution_count": null,
      "outputs": [
        {
          "output_type": "execute_result",
          "data": {
            "text/plain": [
              "[<matplotlib.lines.Line2D at 0x7f9fec420460>]"
            ]
          },
          "metadata": {
            "tags": []
          },
          "execution_count": 45
        },
        {
          "output_type": "display_data",
          "data": {
            "image/png": "[encoded data removed]",
            "text/plain": [
              "<Figure size 432x288 with 1 Axes>"
            ]
          },
          "metadata": {
            "tags": [],
            "needs_background": "light"
          }
        }
      ]
    },
    {
      "cell_type": "markdown",
      "metadata": {
        "id": "SZkInOW-_xwX"
      },
      "source": [
        "There is also a more verbose syntax: "
      ]
    },
    {
      "cell_type": "code",
      "metadata": {
        "id": "YvTgkNJM_xwX",
        "outputId": "416ecc47-6b3e-4ba2-b51e-9438b3fe44d6"
      },
      "source": [
        "plt.plot(x, y, marker=\"o\")"
      ],
      "execution_count": null,
      "outputs": [
        {
          "output_type": "execute_result",
          "data": {
            "text/plain": [
              "[<matplotlib.lines.Line2D at 0x7f9fec3f1850>]"
            ]
          },
          "metadata": {
            "tags": []
          },
          "execution_count": 46
        },
        {
          "output_type": "display_data",
          "data": {
            "image/png": "[encoded data removed]",
            "text/plain": [
              "<Figure size 432x288 with 1 Axes>"
            ]
          },
          "metadata": {
            "tags": [],
            "needs_background": "light"
          }
        }
      ]
    },
    {
      "cell_type": "markdown",
      "metadata": {
        "id": "vzYxYUke_xwY"
      },
      "source": [
        "There are many other options that you can modify, but the others don't come with shortcut symbols.  They can all be modified with the long version of the syntax above.  As one example, you can chagne the width of the line with the `linewidth` option like so: "
      ]
    },
    {
      "cell_type": "code",
      "metadata": {
        "id": "EWOTsRvL_xwZ",
        "outputId": "ffd4c27d-092b-4070-ecb9-596ad598ca1d"
      },
      "source": [
        "plt.plot(x, y, linewidth=10)"
      ],
      "execution_count": null,
      "outputs": [
        {
          "output_type": "execute_result",
          "data": {
            "text/plain": [
              "[<matplotlib.lines.Line2D at 0x7f9fec343be0>]"
            ]
          },
          "metadata": {
            "tags": []
          },
          "execution_count": 47
        },
        {
          "output_type": "display_data",
          "data": {
            "image/png": "[encoded data removed]",
            "text/plain": [
              "<Figure size 432x288 with 1 Axes>"
            ]
          },
          "metadata": {
            "tags": [],
            "needs_background": "light"
          }
        }
      ]
    },
    {
      "cell_type": "markdown",
      "metadata": {
        "id": "ORi5YbaH_xwZ"
      },
      "source": [
        "You can combine as many options as you want in this way.  For example, "
      ]
    },
    {
      "cell_type": "code",
      "metadata": {
        "id": "KlzOcC2E_xwZ",
        "outputId": "61db5225-7722-401e-8a5d-89e8886a6541"
      },
      "source": [
        "plt.plot(x, y, color=\"m\", linestyle=\"--\", linewidth=3, marker=\"+\")"
      ],
      "execution_count": null,
      "outputs": [
        {
          "output_type": "execute_result",
          "data": {
            "text/plain": [
              "[<matplotlib.lines.Line2D at 0x7f9fec3220a0>]"
            ]
          },
          "metadata": {
            "tags": []
          },
          "execution_count": 48
        },
        {
          "output_type": "display_data",
          "data": {
            "image/png": "[encoded data removed]",
            "text/plain": [
              "<Figure size 432x288 with 1 Axes>"
            ]
          },
          "metadata": {
            "tags": [],
            "needs_background": "light"
          }
        }
      ]
    },
    {
      "cell_type": "markdown",
      "metadata": {
        "id": "z3t5D8De_xwZ"
      },
      "source": [
        "There are many more options.  I encourage you to look through the documentation for `plot` and try different things out.  I will not give you exact specifications for plots in this class, but I will expect you to choose options that make your graph look decent.  For instance, if you are plotting more than one curve on the same graph (which we will do in a moment), then you should make each one a different color.  "
      ]
    },
    {
      "cell_type": "markdown",
      "metadata": {
        "id": "OOjq54CF_xwa"
      },
      "source": [
        "## Labels and Titles\n",
        "You can also customize the rest of the graph as well.  We will only look at a few of the simplest options here, but I strongly encourage you to explore the python documentation and see how to change other features.  \n",
        "\n",
        "Two of the most useful things you can change are the axis labels and titles.  You can do so with the functions (all from the `pyplot` package) `xlabel`, `ylabel` and `title`.  Each takes one input: a string of text (encased in quotation marks) that weill be displayed in the appropriate place.  For instance, "
      ]
    },
    {
      "cell_type": "code",
      "metadata": {
        "id": "_MxCNdCd_xwa",
        "outputId": "f2300d1e-485e-404a-c97b-54449e70a258"
      },
      "source": [
        "plt.plot(x, y, \"r\")\n",
        "plt.xlabel(\"x-axis\")\n",
        "plt.ylabel(\"y-axis\")\n",
        "plt.title(\"Graph of a parabola\")"
      ],
      "execution_count": null,
      "outputs": [
        {
          "output_type": "execute_result",
          "data": {
            "text/plain": [
              "Text(0.5, 1.0, 'Graph of a parabola')"
            ]
          },
          "metadata": {
            "tags": []
          },
          "execution_count": 49
        },
        {
          "output_type": "display_data",
          "data": {
            "image/png": "[encoded data removed]",
            "text/plain": [
              "<Figure size 432x288 with 1 Axes>"
            ]
          },
          "metadata": {
            "tags": [],
            "needs_background": "light"
          }
        }
      ]
    },
    {
      "cell_type": "markdown",
      "metadata": {
        "id": "fGZ1pl94_xwa"
      },
      "source": [
        "For the rest of this class, **every plot you make should have axis labels and a title**, even if the labels are just \"x\" and \"y\".  "
      ]
    },
    {
      "cell_type": "markdown",
      "metadata": {
        "id": "pndACw-W_xwa"
      },
      "source": [
        "## Plotting Multiple Curves\n",
        "Very often, we will want to plot more than one curve.  Fortunately, this is very easy in python: You just use multiple plot commands.  For example, let's try to plot $y = x^2 - 3$ in red and $y = x^3 + 2x - 5$ in black.  We can use the code"
      ]
    },
    {
      "cell_type": "code",
      "metadata": {
        "id": "2QGhy1R1_xwb",
        "outputId": "fb595cb9-d87a-414b-dc75-0be9e16b5a5c"
      },
      "source": [
        "x = np.arange(-2, 3.5, 0.5)\n",
        "y = x ** 2 - 3\n",
        "z = x ** 3 + 2 * x - 5\n",
        "plt.plot(x, y, \"r\")\n",
        "plt.plot(x, z, \"k\")"
      ],
      "execution_count": null,
      "outputs": [
        {
          "output_type": "execute_result",
          "data": {
            "text/plain": [
              "[<matplotlib.lines.Line2D at 0x7f9fec253160>]"
            ]
          },
          "metadata": {
            "tags": []
          },
          "execution_count": 50
        },
        {
          "output_type": "display_data",
          "data": {
            "image/png": "[encoded data removed]",
            "text/plain": [
              "<Figure size 432x288 with 1 Axes>"
            ]
          },
          "metadata": {
            "tags": [],
            "needs_background": "light"
          }
        }
      ]
    },
    {
      "cell_type": "markdown",
      "metadata": {
        "id": "YT-2De0S_xwb"
      },
      "source": [
        "It is also possible to combine both into a single plot command.  The general syntax is `plt.plot(x1, y1, options, x2, y2, options)`.  For example, "
      ]
    },
    {
      "cell_type": "code",
      "metadata": {
        "id": "aTmT-o6C_xwb",
        "outputId": "486ab21e-081c-4478-f1ce-315ea3be9138"
      },
      "source": [
        "plt.plot(x, y, \"r\", x, z, \"k\")"
      ],
      "execution_count": null,
      "outputs": [
        {
          "output_type": "execute_result",
          "data": {
            "text/plain": [
              "[<matplotlib.lines.Line2D at 0x7f9fec21af10>,\n",
              " <matplotlib.lines.Line2D at 0x7f9fec21af40>]"
            ]
          },
          "metadata": {
            "tags": []
          },
          "execution_count": 51
        },
        {
          "output_type": "display_data",
          "data": {
            "image/png": "[encoded data removed]",
            "text/plain": [
              "<Figure size 432x288 with 1 Axes>"
            ]
          },
          "metadata": {
            "tags": [],
            "needs_background": "light"
          }
        }
      ]
    },
    {
      "cell_type": "markdown",
      "metadata": {
        "id": "EsBzE9Eh_xwc"
      },
      "source": [
        "If you include multiple curves on the same plot like this, it is always good practice to add a legend so that readers will be able to understand your graph.  You can do so with the `legend` command, which is also part of `pyplot`.  The syntax is `plt.legend((label1, label2, ...))`, where each label is encased in quotation marks.  The labels should go in the same order that you made the plots.  For example, "
      ]
    },
    {
      "cell_type": "code",
      "metadata": {
        "id": "_obUq0Do_xwc",
        "outputId": "b7a5858f-5fb1-487e-ee65-75f9548563a2"
      },
      "source": [
        "plt.plot(x, y, \"r\")\n",
        "plt.plot(x, z, \"k\")\n",
        "plt.legend((\"Quadratic\", \"Cubic\"))"
      ],
      "execution_count": null,
      "outputs": [
        {
          "output_type": "execute_result",
          "data": {
            "text/plain": [
              "<matplotlib.legend.Legend at 0x7f9fec626760>"
            ]
          },
          "metadata": {
            "tags": []
          },
          "execution_count": 52
        },
        {
          "output_type": "display_data",
          "data": {
            "image/png": "[encoded data removed]",
            "text/plain": [
              "<Figure size 432x288 with 1 Axes>"
            ]
          },
          "metadata": {
            "tags": [],
            "needs_background": "light"
          }
        }
      ]
    },
    {
      "cell_type": "markdown",
      "metadata": {
        "id": "8zr4ks5D_xwc"
      },
      "source": [
        "Notice that the call to legend requires two sets of parentheses, unlike most of the other commands we've seen.  (We'll talk about why when we learn how to define functions.)\n",
        "\n",
        "In this case, the legend is in a pretty good location, but often python will put it somewhere you don't want, such as covering up one of the curves.  You can manually adjust the position with the following syntax: "
      ]
    },
    {
      "cell_type": "code",
      "metadata": {
        "id": "hIfaW-dT_xwd",
        "outputId": "9f9df2bf-36eb-44fe-a7e2-3e75362ac172"
      },
      "source": [
        "plt.plot(x, y, \"r\")\n",
        "plt.plot(x, z, \"k\")\n",
        "plt.legend((\"Quadratic\", \"Cubic\"), loc=\"upper center\")"
      ],
      "execution_count": null,
      "outputs": [
        {
          "output_type": "execute_result",
          "data": {
            "text/plain": [
              "<matplotlib.legend.Legend at 0x7f9fec4643a0>"
            ]
          },
          "metadata": {
            "tags": []
          },
          "execution_count": 53
        },
        {
          "output_type": "display_data",
          "data": {
            "image/png": "[encoded data removed]",
            "text/plain": [
              "<Figure size 432x288 with 1 Axes>"
            ]
          },
          "metadata": {
            "tags": [],
            "needs_background": "light"
          }
        }
      ]
    },
    {
      "cell_type": "markdown",
      "metadata": {
        "id": "G_5XIGb5_xwd"
      },
      "source": [
        "I highly recommend that you look through the documentation for the legend function to see more ways to customize this property.  In this class, I will not specify exactly what your graph should look like, but you are responsible for making it neat and legible.  "
      ]
    },
    {
      "cell_type": "markdown",
      "metadata": {
        "id": "CdRTfasx_xwd"
      },
      "source": [
        "If you want different graphs on different figures, you can open a new figure window with the `figure` command.  The syntax is `plt.figure(figure_number)`.  For example, "
      ]
    },
    {
      "cell_type": "code",
      "metadata": {
        "id": "srJtycGr_xwe",
        "outputId": "2ac30e78-190b-4866-dad6-5161362eac8e"
      },
      "source": [
        "plt.figure(1)\n",
        "plt.plot(x, y, \"r\")\n",
        "\n",
        "plt.figure(2)\n",
        "plt.plot(x, z, \"k\")"
      ],
      "execution_count": null,
      "outputs": [
        {
          "output_type": "execute_result",
          "data": {
            "text/plain": [
              "[<matplotlib.lines.Line2D at 0x7f9fec0ce4f0>]"
            ]
          },
          "metadata": {
            "tags": []
          },
          "execution_count": 54
        },
        {
          "output_type": "display_data",
          "data": {
            "image/png": "[encoded data removed]",
            "text/plain": [
              "<Figure size 432x288 with 1 Axes>"
            ]
          },
          "metadata": {
            "tags": [],
            "needs_background": "light"
          }
        },
        {
          "output_type": "display_data",
          "data": {
            "image/png": "[encoded data removed]",
            "text/plain": [
              "<Figure size 432x288 with 1 Axes>"
            ]
          },
          "metadata": {
            "tags": [],
            "needs_background": "light"
          }
        }
      ]
    },
    {
      "cell_type": "markdown",
      "metadata": {
        "id": "EwX06Ld3_xwe"
      },
      "source": [
        "It is good practice to use the figure command every time you make a new plot, but if you are only making one graph then python will generally do it for you.  "
      ]
    }
  ]
}