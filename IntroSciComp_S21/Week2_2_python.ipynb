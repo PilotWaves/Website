{
  "nbformat": 4,
  "nbformat_minor": 0,
  "metadata": {
    "kernelspec": {
      "display_name": "Python 3",
      "language": "python",
      "name": "python3"
    },
    "language_info": {
      "codemirror_mode": {
        "name": "ipython",
        "version": 3
      },
      "file_extension": ".py",
      "mimetype": "text/x-python",
      "name": "python",
      "nbconvert_exporter": "python",
      "pygments_lexer": "ipython3",
      "version": "3.8.5"
    },
    "colab": {
      "name": "Week2_2_python.ipynb",
      "provenance": [],
      "collapsed_sections": [
        "7qCHh66VcUn0",
        "z_JKEgrKcUn1",
        "O5sGW22HcUn3",
        "cOXSDRAccUn8",
        "OKm7RdimcUn9",
        "-kN-N4JmcUn-",
        "gvdrF5CHcUoF",
        "zkaiYZ-xcUoH"
      ]
    }
  },
  "cells": [
    {
      "cell_type": "markdown",
      "metadata": {
        "id": "LayIuH1ZcUnq"
      },
      "source": [
        "# Week 2 Coding Lecture 2: Conditional statements\n",
        "When you are programming, you will often encounter situations where you want your code to do one thing in some contexts and another thing in other contexts.  We already saw one example in the last lecture: We wanted to be able to stop our loop if `fib(n)` was too large.  For a simpler example, you might want to calculate the absolute value of a number.  The absolute value is defined as \n",
        "\n",
        "$$ |x| = \\left\\{ \\begin{array}{lr} x & \\textrm{if }x \\geq 0, \\\\ -x & \\textrm{if }x < 0. \\end{array} \\right.$$\n",
        "\n",
        "In English, this means that the absolute value of $x$ is the same value if $x$ is not negative, but you have to flip the sign if $x$ is negative.  "
      ]
    },
    {
      "cell_type": "markdown",
      "metadata": {
        "id": "GjwXZvbDcUnu"
      },
      "source": [
        "This general structure is so common that python (along with essentially every other programming language) has a special syntax to handle it.  In python, this is called an `if` statement.  In its simplest form, an `if` statement looks like this: \n",
        "\n",
        "`if condition:\n",
        "    # Code to be run if the condition is true`"
      ]
    },
    {
      "cell_type": "markdown",
      "metadata": {
        "id": "6_nJfBukcUnv"
      },
      "source": [
        "The word `if` is not a variable - it is a reserved word that tells python that this is an `if` statement.  The word `condition` can be a variable, or it can be replaced with a more complicated line of code.  For the moment, we will assume that the code in `condition` evaluates to a `bool` variable.  \n",
        "\n",
        "We have not encountered the type `bool` before, but it is very simple.  A variable of type `bool` can only have two different values, `True` or `False`.  These are also keywords in python, so you can create your own `bool` variables.  For example, "
      ]
    },
    {
      "cell_type": "code",
      "metadata": {
        "id": "oB41tH8icUnv",
        "outputId": "a02be6a4-750d-497f-dd27-614877f0a39e"
      },
      "source": [
        "x = True\n",
        "print(x)"
      ],
      "execution_count": null,
      "outputs": [
        {
          "output_type": "stream",
          "text": [
            "True\n"
          ],
          "name": "stdout"
        }
      ]
    },
    {
      "cell_type": "code",
      "metadata": {
        "id": "K3YNXHggcUnw",
        "outputId": "672e1b73-85b5-45a3-86d7-93b00afc8354"
      },
      "source": [
        "print(type(x))"
      ],
      "execution_count": null,
      "outputs": [
        {
          "output_type": "stream",
          "text": [
            "<class 'bool'>\n"
          ],
          "name": "stdout"
        }
      ]
    },
    {
      "cell_type": "code",
      "metadata": {
        "id": "zjrS2aTvcUnw",
        "outputId": "6b04b6a9-9d28-4f09-d1af-c5a2d01f7fae"
      },
      "source": [
        "y = False\n",
        "print(y)"
      ],
      "execution_count": null,
      "outputs": [
        {
          "output_type": "stream",
          "text": [
            "False\n"
          ],
          "name": "stdout"
        }
      ]
    },
    {
      "cell_type": "code",
      "metadata": {
        "id": "ypOoHoWhcUnw",
        "outputId": "1bd76a13-88d2-43ab-864c-0010f7e9a132"
      },
      "source": [
        "print(type(y))"
      ],
      "execution_count": null,
      "outputs": [
        {
          "output_type": "stream",
          "text": [
            "<class 'bool'>\n"
          ],
          "name": "stdout"
        }
      ]
    },
    {
      "cell_type": "markdown",
      "metadata": {
        "id": "bCid4MJ7cUnx"
      },
      "source": [
        "When python encounters an `if` satement, it evaluates the code in `condition` and then does one of two things.  If `condition` is True, then python runs the indented code after the `if` statement, and then continues with any other un-indented code below.  If `condition` is False, then python skips the indented code and goes directly to the un-indented code after the block.  \n",
        "\n",
        "Here are two prototypical examples: "
      ]
    },
    {
      "cell_type": "code",
      "metadata": {
        "id": "Fsr-NecocUnx",
        "outputId": "cb814bc7-625a-4bc0-d222-20d12b3d4468"
      },
      "source": [
        "x = True\n",
        "print(\"The code before the if block is always run.\")\n",
        "if x:\n",
        "    print(\"The code in the if block is run because x is True.\")\n",
        "\n",
        "print(\"The code after the if block is always run.\")"
      ],
      "execution_count": null,
      "outputs": [
        {
          "output_type": "stream",
          "text": [
            "The code before the if block is always run.\n",
            "The code in the if block is run because x is True.\n",
            "The code after the if block is always run.\n"
          ],
          "name": "stdout"
        }
      ]
    },
    {
      "cell_type": "code",
      "metadata": {
        "id": "Ostc74atcUny",
        "outputId": "ee497ebf-0c21-44d9-bed9-79126f2e5d9c"
      },
      "source": [
        "y = False\n",
        "print(\"The code before the if block is always run.\")\n",
        "if y:\n",
        "    print(\"The code in the if block is not run because y is False.\")\n",
        "\n",
        "print(\"The code after the if block is always run.\")"
      ],
      "execution_count": null,
      "outputs": [
        {
          "output_type": "stream",
          "text": [
            "The code before the if block is always run.\n",
            "The code after the if block is always run.\n"
          ],
          "name": "stdout"
        }
      ]
    },
    {
      "cell_type": "markdown",
      "metadata": {
        "id": "3SSx_LKZcUny"
      },
      "source": [
        "To make use of this syntax, we have to know how to write code that produces `bool` variables.  Python has a handful of useful operators for this task.  You are probably already very familiar with all of these.  "
      ]
    },
    {
      "cell_type": "markdown",
      "metadata": {
        "id": "uC7_3d25cUny"
      },
      "source": [
        "### Equality\n",
        "The `==` operator checks if two values are equal.  If they are equal, the entire expression evaluates to True.  If they are not equal, the expression evaluates to False.  For example, "
      ]
    },
    {
      "cell_type": "code",
      "metadata": {
        "id": "qrLVzmIucUnz",
        "outputId": "807ddb26-086b-4d7c-e08e-3ef5baa5cd5f"
      },
      "source": [
        "x = 3\n",
        "y = 3\n",
        "z = 2\n",
        "\n",
        "print(x == y)"
      ],
      "execution_count": null,
      "outputs": [
        {
          "output_type": "stream",
          "text": [
            "True\n"
          ],
          "name": "stdout"
        }
      ]
    },
    {
      "cell_type": "code",
      "metadata": {
        "id": "pxtHDbxKcUnz",
        "outputId": "1073431b-bb9f-4755-98f5-3c3680494ed3"
      },
      "source": [
        "print(x == z)"
      ],
      "execution_count": null,
      "outputs": [
        {
          "output_type": "stream",
          "text": [
            "False\n"
          ],
          "name": "stdout"
        }
      ]
    },
    {
      "cell_type": "markdown",
      "metadata": {
        "id": "lgg1Eu3gcUnz"
      },
      "source": [
        "Notice that this is a double equals sign, not a single equals sign.  The single equals sign is already used for assignment.  It is very common to accidentally use assignment when you meant to use equality.  For example, you might write"
      ]
    },
    {
      "cell_type": "code",
      "metadata": {
        "id": "95jeFtwacUnz",
        "outputId": "d577952c-9058-4353-dd14-4e56a9fba821"
      },
      "source": [
        "if (x = z):\n",
        "    print(\"x is equal to z\")"
      ],
      "execution_count": null,
      "outputs": [
        {
          "output_type": "error",
          "ename": "SyntaxError",
          "evalue": "invalid syntax (<ipython-input-61-cb5767e81f92>, line 1)",
          "traceback": [
            "\u001b[0;36m  File \u001b[0;32m\"<ipython-input-61-cb5767e81f92>\"\u001b[0;36m, line \u001b[0;32m1\u001b[0m\n\u001b[0;31m    if (x = z):\u001b[0m\n\u001b[0m          ^\u001b[0m\n\u001b[0;31mSyntaxError\u001b[0m\u001b[0;31m:\u001b[0m invalid syntax\n"
          ]
        }
      ]
    },
    {
      "cell_type": "markdown",
      "metadata": {
        "id": "xlHsJU-2cUn0"
      },
      "source": [
        "As you can see, python produces an error when this happens.  "
      ]
    },
    {
      "cell_type": "markdown",
      "metadata": {
        "id": "7qCHh66VcUn0"
      },
      "source": [
        "### Greater\n",
        "The `>` operator checks if the left value is greater than the right value.  If the left value is greater, the expression evaluates to True.  Otherwise, it evaluates to False.  "
      ]
    },
    {
      "cell_type": "code",
      "metadata": {
        "id": "F_ZSAPuCcUn0",
        "outputId": "712785fa-7372-4556-b911-32ee96b4918e"
      },
      "source": [
        "x = 3\n",
        "y = 3\n",
        "z = 4\n",
        "\n",
        "print(z > x)"
      ],
      "execution_count": null,
      "outputs": [
        {
          "output_type": "stream",
          "text": [
            "True\n"
          ],
          "name": "stdout"
        }
      ]
    },
    {
      "cell_type": "code",
      "metadata": {
        "id": "03WJiii5cUn1",
        "outputId": "f489af5e-ce4a-4ff6-e996-36e3e5143c7d"
      },
      "source": [
        "print(x > z)"
      ],
      "execution_count": null,
      "outputs": [
        {
          "output_type": "stream",
          "text": [
            "False\n"
          ],
          "name": "stdout"
        }
      ]
    },
    {
      "cell_type": "code",
      "metadata": {
        "id": "LROavLyIcUn1",
        "outputId": "44a63986-099e-41ca-efb3-58e571d9d02a"
      },
      "source": [
        "print(x > y)"
      ],
      "execution_count": null,
      "outputs": [
        {
          "output_type": "stream",
          "text": [
            "False\n"
          ],
          "name": "stdout"
        }
      ]
    },
    {
      "cell_type": "markdown",
      "metadata": {
        "id": "z_JKEgrKcUn1"
      },
      "source": [
        "### Less\n",
        "The `<` operator checks if the left value is less than the right value.  If the left value is less, then the expression evaluates to True.  Otherwise, it evaluates to False.  "
      ]
    },
    {
      "cell_type": "code",
      "metadata": {
        "id": "dyXmTLE7cUn2",
        "outputId": "3545435e-b86a-4b2f-e0df-2b36dd6c3192"
      },
      "source": [
        "x = 3\n",
        "y = 3\n",
        "z = 4\n",
        "\n",
        "print(x < z)"
      ],
      "execution_count": null,
      "outputs": [
        {
          "output_type": "stream",
          "text": [
            "True\n"
          ],
          "name": "stdout"
        }
      ]
    },
    {
      "cell_type": "code",
      "metadata": {
        "id": "_-LPQoSvcUn2",
        "outputId": "0a5ba752-1d21-4814-8034-7d205e06dc0b"
      },
      "source": [
        "print(z < x)"
      ],
      "execution_count": null,
      "outputs": [
        {
          "output_type": "stream",
          "text": [
            "False\n"
          ],
          "name": "stdout"
        }
      ]
    },
    {
      "cell_type": "code",
      "metadata": {
        "id": "KqoO-h6gcUn2",
        "outputId": "455e9ad1-c242-42ac-8359-6837c401a7d3"
      },
      "source": [
        "print(x < y)"
      ],
      "execution_count": null,
      "outputs": [
        {
          "output_type": "stream",
          "text": [
            "False\n"
          ],
          "name": "stdout"
        }
      ]
    },
    {
      "cell_type": "markdown",
      "metadata": {
        "id": "O5sGW22HcUn3"
      },
      "source": [
        "### Greater-equal\n",
        "\n",
        "The `>=` operator checks if the left value is greater than or equal to the right value.  If the left value is greater or equal, the condition evaluates to True.  Otherwise, it evaluates to False.  "
      ]
    },
    {
      "cell_type": "code",
      "metadata": {
        "id": "kqLlNQqucUn6",
        "outputId": "48551d19-48aa-4de6-c09c-caf86156254c"
      },
      "source": [
        "x = 3\n",
        "y = 3\n",
        "z = 4\n",
        "\n",
        "print(z >= x)"
      ],
      "execution_count": null,
      "outputs": [
        {
          "output_type": "stream",
          "text": [
            "True\n"
          ],
          "name": "stdout"
        }
      ]
    },
    {
      "cell_type": "code",
      "metadata": {
        "id": "I1VAvRbqcUn7",
        "outputId": "375134fa-4606-41e7-a451-4e5b2adf0c4b"
      },
      "source": [
        "print(x >= z)"
      ],
      "execution_count": null,
      "outputs": [
        {
          "output_type": "stream",
          "text": [
            "False\n"
          ],
          "name": "stdout"
        }
      ]
    },
    {
      "cell_type": "code",
      "metadata": {
        "id": "BnpdgqG3cUn7",
        "outputId": "623782e1-85c6-4b97-a08d-0886e7760515"
      },
      "source": [
        "print(x >= y)"
      ],
      "execution_count": null,
      "outputs": [
        {
          "output_type": "stream",
          "text": [
            "True\n"
          ],
          "name": "stdout"
        }
      ]
    },
    {
      "cell_type": "markdown",
      "metadata": {
        "id": "cOXSDRAccUn8"
      },
      "source": [
        "### Less-equal\n",
        "The `<=` operator checks if the left value is less or equal to the right value.  If the left value is less or equal, the condition evaluates to True.  Otehrwise, it evaluates to False.  "
      ]
    },
    {
      "cell_type": "code",
      "metadata": {
        "id": "yae-RMk8cUn8",
        "outputId": "9284c659-1bdc-4ded-e3c4-47c08942ec3b"
      },
      "source": [
        "x = 3\n",
        "y = 3\n",
        "z = 4\n",
        "\n",
        "print(x <= z)"
      ],
      "execution_count": null,
      "outputs": [
        {
          "output_type": "stream",
          "text": [
            "True\n"
          ],
          "name": "stdout"
        }
      ]
    },
    {
      "cell_type": "code",
      "metadata": {
        "id": "A_bqJoEmcUn8",
        "outputId": "c8ba47ee-cf50-4fce-dbaa-e9d006b60b99"
      },
      "source": [
        "print(z <= x)"
      ],
      "execution_count": null,
      "outputs": [
        {
          "output_type": "stream",
          "text": [
            "False\n"
          ],
          "name": "stdout"
        }
      ]
    },
    {
      "cell_type": "code",
      "metadata": {
        "id": "gBm6zQ4dcUn8",
        "outputId": "7a5aa9f0-a7df-4f53-8f25-65e274f56a17"
      },
      "source": [
        "print(x <= y)"
      ],
      "execution_count": null,
      "outputs": [
        {
          "output_type": "stream",
          "text": [
            "True\n"
          ],
          "name": "stdout"
        }
      ]
    },
    {
      "cell_type": "markdown",
      "metadata": {
        "id": "8mNP6DtMcUn9"
      },
      "source": [
        "## Absolute value\n",
        "We are now in a position to calculate absolute value in code.  We can write"
      ]
    },
    {
      "cell_type": "code",
      "metadata": {
        "id": "I9gJUN-RcUn9",
        "outputId": "764fed92-4337-4978-9404-baf603f919b8"
      },
      "source": [
        "x = 10\n",
        "if x >= 0:\n",
        "    absolute_value_of_x = x\n",
        "if x < 0:\n",
        "    absolute_value_of_x = -x\n",
        "print(\"The absolute value of x is: \")\n",
        "print(absolute_value_of_x)"
      ],
      "execution_count": null,
      "outputs": [
        {
          "output_type": "stream",
          "text": [
            "The absolute value of x is: \n",
            "10\n"
          ],
          "name": "stdout"
        }
      ]
    },
    {
      "cell_type": "markdown",
      "metadata": {
        "id": "Su8Ix0iRcUn9"
      },
      "source": [
        "Likewise, "
      ]
    },
    {
      "cell_type": "code",
      "metadata": {
        "id": "PMSgb_k3cUn9",
        "outputId": "e5cacabe-22fd-47c8-a546-06a393e2938c"
      },
      "source": [
        "x = -5\n",
        "if x >= 0:\n",
        "    absolute_value_of_x = x\n",
        "if x < 0:\n",
        "    absolute_value_of_x = -x\n",
        "print(\"The absolute value of x is: \")\n",
        "print(absolute_value_of_x)"
      ],
      "execution_count": null,
      "outputs": [
        {
          "output_type": "stream",
          "text": [
            "The absolute value of x is: \n",
            "5\n"
          ],
          "name": "stdout"
        }
      ]
    },
    {
      "cell_type": "markdown",
      "metadata": {
        "id": "OKm7RdimcUn9"
      },
      "source": [
        "### Else\n",
        "Notice that we had two mutually exclusive conditions in this code (either x is non-negative or it is negative, but not both) and we wanted to run different code in either case.  Our solution is ok, but this comes up so often that python has a shortcut: The `else` statement.  In general, `else` statements work like this: \n",
        "\n",
        "`if condition:\n",
        "    # Code to be run if the condition is true\n",
        "else:\n",
        "    # Code to be run if the condition is false`\n",
        "    \n",
        "When python encounters a block like this, it first evaluates `condition`.  If `condition` is True, then python executes the code in the first indented block, then skips the second indented block and goes directly to un-indented code after the `if` and `else` blocks.  If `condition` is False, then python skips the code in the first indented block and goes directly to the second indented block, then continues with un-indented code after both blocks.  \n",
        "\n",
        "We can therefore clean up our code like this: "
      ]
    },
    {
      "cell_type": "code",
      "metadata": {
        "id": "g98fItmKcUn-",
        "outputId": "aa856d6f-e82a-4f1e-f4af-fb8e16523184"
      },
      "source": [
        "x = -12\n",
        "if x >= 0:\n",
        "    absolute_value_of_x = x\n",
        "else:\n",
        "    absolute_value_of_x = -x\n",
        "print(\"The absolute value of x is: \")\n",
        "print(absolute_value_of_x)"
      ],
      "execution_count": null,
      "outputs": [
        {
          "output_type": "stream",
          "text": [
            "The absolute value of x is: \n",
            "12\n"
          ],
          "name": "stdout"
        }
      ]
    },
    {
      "cell_type": "markdown",
      "metadata": {
        "id": "v3lvIZ1NcUn-"
      },
      "source": [
        "This version is easier to read and debug, but it is also faster.  That is because python only has to check one condition instead of evaluating both `x >= 0` and `x < 0`.  "
      ]
    },
    {
      "cell_type": "markdown",
      "metadata": {
        "id": "-kN-N4JmcUn-"
      },
      "source": [
        "### Elif\n",
        "There is actually one more level of generality for `if` statements.  If we have more than two cases, but we only ever want to run one block of code, we can use the keyword `elif`.  The general case looks like this:\n",
        "\n",
        "`if condition_0:\n",
        "    # code block 0\n",
        "elif condition_1:\n",
        "    # code block 1\n",
        "...\n",
        "elif condition_n:\n",
        "    # code block n\n",
        "else:\n",
        "    # code block n+1`\n",
        "    \n",
        "When python encounters a block like this, it checks each of the conditions in turn.  The first time it encounters a condition that evaluates to True, python executes the corresponding indented block of code and then skips directly to un-indented code after the block.  If all of the conditions evaluate to False, then python executes the last block of code (after the `else`) and then goes on to any un-indented code below.  You can use as many `elif` statements as you want after an `if`, but only one `else`.  For example:"
      ]
    },
    {
      "cell_type": "code",
      "metadata": {
        "id": "rR3z_CV7cUn-",
        "outputId": "82942a53-1a5a-4565-870b-f989075885ff"
      },
      "source": [
        "x = 5\n",
        "y = -2\n",
        "\n",
        "if y > x:\n",
        "    print(\"y is greater than x\")\n",
        "elif y == x:\n",
        "    print(\"y is equal to x\")\n",
        "elif y < 0:\n",
        "    print(\"y is negative and less than x\")\n",
        "else:\n",
        "    print(\"None of those conditions were true\")"
      ],
      "execution_count": null,
      "outputs": [
        {
          "output_type": "stream",
          "text": [
            "y is negative and less than x\n"
          ],
          "name": "stdout"
        }
      ]
    },
    {
      "cell_type": "markdown",
      "metadata": {
        "id": "QWNAPW9ecUn_"
      },
      "source": [
        "## And, Or and Not\n",
        "There are two very common ways to combine conditions: The `and` operator and the `or` operator.  The `and` operator evaluates to True if both the left and right value are True and evaluates to False otherwise.  For instance, "
      ]
    },
    {
      "cell_type": "code",
      "metadata": {
        "id": "LBZfawgacUn_",
        "outputId": "2f267fdb-d071-4259-d014-73e74e481b7b"
      },
      "source": [
        "print(True and True)"
      ],
      "execution_count": null,
      "outputs": [
        {
          "output_type": "stream",
          "text": [
            "True\n"
          ],
          "name": "stdout"
        }
      ]
    },
    {
      "cell_type": "code",
      "metadata": {
        "id": "hmHEEodbcUn_",
        "outputId": "b949642f-4a2a-4256-a830-f775314932b0"
      },
      "source": [
        "print(True and False)"
      ],
      "execution_count": null,
      "outputs": [
        {
          "output_type": "stream",
          "text": [
            "False\n"
          ],
          "name": "stdout"
        }
      ]
    },
    {
      "cell_type": "code",
      "metadata": {
        "id": "5fQmN3HBcUn_",
        "outputId": "6d94f23a-bb8d-4a2b-9a4e-7320b42d6a20"
      },
      "source": [
        "print(False and True)"
      ],
      "execution_count": null,
      "outputs": [
        {
          "output_type": "stream",
          "text": [
            "False\n"
          ],
          "name": "stdout"
        }
      ]
    },
    {
      "cell_type": "code",
      "metadata": {
        "id": "E6wR_QiWcUoA",
        "outputId": "478387c6-5438-45a4-b4b6-a995ecb200d2"
      },
      "source": [
        "print(False and False)"
      ],
      "execution_count": null,
      "outputs": [
        {
          "output_type": "stream",
          "text": [
            "False\n"
          ],
          "name": "stdout"
        }
      ]
    },
    {
      "cell_type": "markdown",
      "metadata": {
        "id": "nK5xttn1cUoA"
      },
      "source": [
        "The `or` operator evaluates to True if the left or right value (or both) are True and it evaluates to False otherwise.  For instance, "
      ]
    },
    {
      "cell_type": "code",
      "metadata": {
        "id": "81zAGLt2cUoA",
        "outputId": "11e23dbd-9089-4b16-ebd6-5ed0e238e6a5"
      },
      "source": [
        "print(True or True)"
      ],
      "execution_count": null,
      "outputs": [
        {
          "output_type": "stream",
          "text": [
            "True\n"
          ],
          "name": "stdout"
        }
      ]
    },
    {
      "cell_type": "code",
      "metadata": {
        "id": "GnRCSOpbcUoA",
        "outputId": "5305eb81-04ef-449b-845d-775c33089de7"
      },
      "source": [
        "print(True or False)"
      ],
      "execution_count": null,
      "outputs": [
        {
          "output_type": "stream",
          "text": [
            "True\n"
          ],
          "name": "stdout"
        }
      ]
    },
    {
      "cell_type": "code",
      "metadata": {
        "id": "-N7w9IbOcUoA",
        "outputId": "95acabe4-480c-41d8-8498-0b82c0fd6b75"
      },
      "source": [
        "print(False or True)"
      ],
      "execution_count": null,
      "outputs": [
        {
          "output_type": "stream",
          "text": [
            "True\n"
          ],
          "name": "stdout"
        }
      ]
    },
    {
      "cell_type": "code",
      "metadata": {
        "id": "BnlfUEANcUoB",
        "outputId": "7b2c8ea8-e6bf-4315-c83c-661087e2ac1f"
      },
      "source": [
        "print(False or False)"
      ],
      "execution_count": null,
      "outputs": [
        {
          "output_type": "stream",
          "text": [
            "False\n"
          ],
          "name": "stdout"
        }
      ]
    },
    {
      "cell_type": "markdown",
      "metadata": {
        "id": "w313iKyncUoB"
      },
      "source": [
        "The `not` operator flips the value of a `bool`.  That is, `not True` is `False` and `not False` is `True`.  "
      ]
    },
    {
      "cell_type": "code",
      "metadata": {
        "id": "CPNzvahmcUoB",
        "outputId": "5407e9a0-4f70-43c5-a808-d9fcc68972e6"
      },
      "source": [
        "print(not True)"
      ],
      "execution_count": null,
      "outputs": [
        {
          "output_type": "stream",
          "text": [
            "False\n"
          ],
          "name": "stdout"
        }
      ]
    },
    {
      "cell_type": "code",
      "metadata": {
        "id": "cAHcbQrEcUoB",
        "outputId": "56c0328f-b60a-49ec-ef2b-4e3261fda673"
      },
      "source": [
        "print(not False)"
      ],
      "execution_count": null,
      "outputs": [
        {
          "output_type": "stream",
          "text": [
            "True\n"
          ],
          "name": "stdout"
        }
      ]
    },
    {
      "cell_type": "markdown",
      "metadata": {
        "id": "u7xTH_FDcUoB"
      },
      "source": [
        "## Non-bool conditions\n",
        "There is actually no requirement that the conditions in an `if` statement evaluate to `bool` variables.  The exact rules for what happens when a condition has some other type are up to whoever wrote the code for that type, but there is a very common rule (which will apply to all the types we care about).  \n",
        "\n",
        "If `condition` evaluates to zero, then the `if` statement will treat it as if it were `False`.  If `condition` evaluates to any number other than zero, then the `if` statement will treat it as if it were `True`.  \n",
        "\n",
        "For example, "
      ]
    },
    {
      "cell_type": "code",
      "metadata": {
        "id": "0mbgWJIZcUoC",
        "outputId": "5e295b13-d4af-42fb-9b78-638af1c8a9a5"
      },
      "source": [
        "x = 10\n",
        "if x:\n",
        "    print(\"x is not zero, so this gets printed\")"
      ],
      "execution_count": null,
      "outputs": [
        {
          "output_type": "stream",
          "text": [
            "x is not zero, so this gets printed\n"
          ],
          "name": "stdout"
        }
      ]
    },
    {
      "cell_type": "code",
      "metadata": {
        "id": "WFeAGI7McUoC"
      },
      "source": [
        "y = 0\n",
        "if y:\n",
        "    print(\"y is zero, so this doesn't get printed\")"
      ],
      "execution_count": null,
      "outputs": []
    },
    {
      "cell_type": "markdown",
      "metadata": {
        "id": "bmLO_zCicUoC"
      },
      "source": [
        "# Fibonacci numbers\n",
        "We are now in a position to solve the last problem from the previous lecture.  Recall that we were trying to calculate all of the Fibonacci numbers less than 1,000,000.  We already have code to calculate the first $N$ Fibonacci numbers, where $N$ is a fixed number: "
      ]
    },
    {
      "cell_type": "code",
      "metadata": {
        "id": "KZi8ETrncUoC",
        "outputId": "453742f6-41e7-46df-88cd-538fe6d90085"
      },
      "source": [
        "import numpy as np\n",
        "\n",
        "N = 20\n",
        "fib = np.zeros(N)\n",
        "fib[0] = 1\n",
        "fib[1] = 1\n",
        "\n",
        "for n in range(2, N):\n",
        "    fib[n] = fib[n - 1] + fib[n - 2]\n",
        "\n",
        "print(fib)"
      ],
      "execution_count": null,
      "outputs": [
        {
          "output_type": "stream",
          "text": [
            "[1.000e+00 1.000e+00 2.000e+00 3.000e+00 5.000e+00 8.000e+00 1.300e+01\n",
            " 2.100e+01 3.400e+01 5.500e+01 8.900e+01 1.440e+02 2.330e+02 3.770e+02\n",
            " 6.100e+02 9.870e+02 1.597e+03 2.584e+03 4.181e+03 6.765e+03]\n"
          ],
          "name": "stdout"
        }
      ]
    },
    {
      "cell_type": "markdown",
      "metadata": {
        "id": "2Xd83kbJcUoD"
      },
      "source": [
        "We now want to adjust this code so that it stops once we find a number larger than 1,000,000.  To solve this, we really just have to add a statement to our loop saying \"if fib[n] is at least 1,000,000 then stop the loop\".  Translating this into an `if` statement is pretty straightforward.  The only other thing we need to know is that the keyword `break` tells python to stop whatever loop it is running.  We can now write "
      ]
    },
    {
      "cell_type": "code",
      "metadata": {
        "id": "XtZ3S0YGcUoD",
        "outputId": "c1f03141-c097-4072-c6bd-82395f4fe50c"
      },
      "source": [
        "import numpy as np\n",
        "\n",
        "N = 20\n",
        "fib = np.zeros(N)\n",
        "fib[0] = 1\n",
        "fib[1] = 1\n",
        "\n",
        "for n in range(2, N):\n",
        "    fib[n] = fib[n - 1] + fib[n - 2]\n",
        "    if fib[n] >= 1000000:\n",
        "        break\n",
        "\n",
        "print(fib)"
      ],
      "execution_count": null,
      "outputs": [
        {
          "output_type": "stream",
          "text": [
            "[1.000e+00 1.000e+00 2.000e+00 3.000e+00 5.000e+00 8.000e+00 1.300e+01\n",
            " 2.100e+01 3.400e+01 5.500e+01 8.900e+01 1.440e+02 2.330e+02 3.770e+02\n",
            " 6.100e+02 9.870e+02 1.597e+03 2.584e+03 4.181e+03 6.765e+03]\n"
          ],
          "name": "stdout"
        }
      ]
    },
    {
      "cell_type": "markdown",
      "metadata": {
        "id": "vMxlv_zOcUoE"
      },
      "source": [
        "This code is almost done, but there are a couple of small issues.  Most obviously, we do not have the right answer.  The problem is that there are two different ways for our loop to stop.  One reason is that `fib[n]` becomes bigger than 1,000,000.  The other is that n gets to 20 and the `for` loop finishes as usual.  In our case, we just went through all 20 steps of the `for` loop without ever finding a large enough Fibonacci number.  We can mostly solve this issue by making $N$ larger.  For example, we already saw in the last lecture that the 200th Fibonacci number is larger than 1,000,000, so if we set `N = 200` then we know that we will calculate enough values.  "
      ]
    },
    {
      "cell_type": "code",
      "metadata": {
        "id": "PirfKA_BcUoE",
        "outputId": "321c242b-21bd-4238-cd79-74b7f3f0c6ae"
      },
      "source": [
        "import numpy as np\n",
        "\n",
        "N = 200\n",
        "fib = np.zeros(N)\n",
        "fib[0] = 1\n",
        "fib[1] = 1\n",
        "\n",
        "for n in range(2, N):\n",
        "    fib[n] = fib[n - 1] + fib[n - 2]\n",
        "    if fib[n] >= 1000000:\n",
        "        break\n",
        "\n",
        "print(fib)"
      ],
      "execution_count": null,
      "outputs": [
        {
          "output_type": "stream",
          "text": [
            "[1.000000e+00 1.000000e+00 2.000000e+00 3.000000e+00 5.000000e+00\n",
            " 8.000000e+00 1.300000e+01 2.100000e+01 3.400000e+01 5.500000e+01\n",
            " 8.900000e+01 1.440000e+02 2.330000e+02 3.770000e+02 6.100000e+02\n",
            " 9.870000e+02 1.597000e+03 2.584000e+03 4.181000e+03 6.765000e+03\n",
            " 1.094600e+04 1.771100e+04 2.865700e+04 4.636800e+04 7.502500e+04\n",
            " 1.213930e+05 1.964180e+05 3.178110e+05 5.142290e+05 8.320400e+05\n",
            " 1.346269e+06 0.000000e+00 0.000000e+00 0.000000e+00 0.000000e+00\n",
            " 0.000000e+00 0.000000e+00 0.000000e+00 0.000000e+00 0.000000e+00\n",
            " 0.000000e+00 0.000000e+00 0.000000e+00 0.000000e+00 0.000000e+00\n",
            " 0.000000e+00 0.000000e+00 0.000000e+00 0.000000e+00 0.000000e+00\n",
            " 0.000000e+00 0.000000e+00 0.000000e+00 0.000000e+00 0.000000e+00\n",
            " 0.000000e+00 0.000000e+00 0.000000e+00 0.000000e+00 0.000000e+00\n",
            " 0.000000e+00 0.000000e+00 0.000000e+00 0.000000e+00 0.000000e+00\n",
            " 0.000000e+00 0.000000e+00 0.000000e+00 0.000000e+00 0.000000e+00\n",
            " 0.000000e+00 0.000000e+00 0.000000e+00 0.000000e+00 0.000000e+00\n",
            " 0.000000e+00 0.000000e+00 0.000000e+00 0.000000e+00 0.000000e+00\n",
            " 0.000000e+00 0.000000e+00 0.000000e+00 0.000000e+00 0.000000e+00\n",
            " 0.000000e+00 0.000000e+00 0.000000e+00 0.000000e+00 0.000000e+00\n",
            " 0.000000e+00 0.000000e+00 0.000000e+00 0.000000e+00 0.000000e+00\n",
            " 0.000000e+00 0.000000e+00 0.000000e+00 0.000000e+00 0.000000e+00\n",
            " 0.000000e+00 0.000000e+00 0.000000e+00 0.000000e+00 0.000000e+00\n",
            " 0.000000e+00 0.000000e+00 0.000000e+00 0.000000e+00 0.000000e+00\n",
            " 0.000000e+00 0.000000e+00 0.000000e+00 0.000000e+00 0.000000e+00\n",
            " 0.000000e+00 0.000000e+00 0.000000e+00 0.000000e+00 0.000000e+00\n",
            " 0.000000e+00 0.000000e+00 0.000000e+00 0.000000e+00 0.000000e+00\n",
            " 0.000000e+00 0.000000e+00 0.000000e+00 0.000000e+00 0.000000e+00\n",
            " 0.000000e+00 0.000000e+00 0.000000e+00 0.000000e+00 0.000000e+00\n",
            " 0.000000e+00 0.000000e+00 0.000000e+00 0.000000e+00 0.000000e+00\n",
            " 0.000000e+00 0.000000e+00 0.000000e+00 0.000000e+00 0.000000e+00\n",
            " 0.000000e+00 0.000000e+00 0.000000e+00 0.000000e+00 0.000000e+00\n",
            " 0.000000e+00 0.000000e+00 0.000000e+00 0.000000e+00 0.000000e+00\n",
            " 0.000000e+00 0.000000e+00 0.000000e+00 0.000000e+00 0.000000e+00\n",
            " 0.000000e+00 0.000000e+00 0.000000e+00 0.000000e+00 0.000000e+00\n",
            " 0.000000e+00 0.000000e+00 0.000000e+00 0.000000e+00 0.000000e+00\n",
            " 0.000000e+00 0.000000e+00 0.000000e+00 0.000000e+00 0.000000e+00\n",
            " 0.000000e+00 0.000000e+00 0.000000e+00 0.000000e+00 0.000000e+00\n",
            " 0.000000e+00 0.000000e+00 0.000000e+00 0.000000e+00 0.000000e+00\n",
            " 0.000000e+00 0.000000e+00 0.000000e+00 0.000000e+00 0.000000e+00\n",
            " 0.000000e+00 0.000000e+00 0.000000e+00 0.000000e+00 0.000000e+00\n",
            " 0.000000e+00 0.000000e+00 0.000000e+00 0.000000e+00 0.000000e+00]\n"
          ],
          "name": "stdout"
        }
      ]
    },
    {
      "cell_type": "markdown",
      "metadata": {
        "id": "n43czhAXcUoE"
      },
      "source": [
        "Of course, now we have a different issue.  Now the vector has all of the Fibonacci numbers we wanted (plus one more that is over 1,000,000), but it also has more than 100 trailing zeros.  This is because there are actually only 30 Fibonacci numbers less than 1,000,000, not 200.  We could of course just set $N$ to 30, but that would destroy the point of using an `if` statement in the first place.  A better solution is just to cut off the extra zeros once we are done.  \n",
        "How do we know how many entries of our array to keep?  The trick is to notice that `n` is still defined after the loop finishes, so the final value of `n` tells you how many steps were completed.  In our case, it is easy to check that `n` is 30 at the end of this code block, which means that we filled in every entry up to index 30.  We actually don't want the last entry we filled in, because `fib[n]` is over 1,000,000, so we only want to keep the entries of x up to index 29.  We can therefore use this solution: "
      ]
    },
    {
      "cell_type": "code",
      "metadata": {
        "id": "NxjUfseOcUoE",
        "outputId": "adb694cf-2631-4216-b1bc-9a88fab9d97b"
      },
      "source": [
        "import numpy as np\n",
        "\n",
        "N = 200\n",
        "fib = np.zeros(N)\n",
        "fib[0] = 1\n",
        "fib[1] = 1\n",
        "\n",
        "for n in range(2, N):\n",
        "    fib[n] = fib[n - 1] + fib[n - 2]\n",
        "    if fib[n] >= 1000000:\n",
        "        break\n",
        "\n",
        "fib = fib[:n-1]\n",
        "print(fib)"
      ],
      "execution_count": null,
      "outputs": [
        {
          "output_type": "stream",
          "text": [
            "[1.00000e+00 1.00000e+00 2.00000e+00 3.00000e+00 5.00000e+00 8.00000e+00\n",
            " 1.30000e+01 2.10000e+01 3.40000e+01 5.50000e+01 8.90000e+01 1.44000e+02\n",
            " 2.33000e+02 3.77000e+02 6.10000e+02 9.87000e+02 1.59700e+03 2.58400e+03\n",
            " 4.18100e+03 6.76500e+03 1.09460e+04 1.77110e+04 2.86570e+04 4.63680e+04\n",
            " 7.50250e+04 1.21393e+05 1.96418e+05 3.17811e+05 5.14229e+05]\n"
          ],
          "name": "stdout"
        }
      ]
    },
    {
      "cell_type": "markdown",
      "metadata": {
        "id": "dqKl-3X9cUoF"
      },
      "source": [
        "You should take some time to study the above code.  It is a very common method and we will use the same structure repeatedly in this class.  The general idea is to initialize storage (in this case, the `fib` vector) for our results, then use a loop to calculate each value in turn, then use a combination of `if` and `break` to stop our loop once we have all the answers we need.  \n",
        "\n",
        "There is still one small nuisance with this code: We need to make sure that we make `N` large enough.  Our solution was essentially just to guess and check until we found a sufficiently large value of `N`, but python has another coding construct for this purpose.  "
      ]
    },
    {
      "cell_type": "markdown",
      "metadata": {
        "id": "gvdrF5CHcUoF"
      },
      "source": [
        "### While loops\n",
        "Up until now, we have been using `for` loops, but python actually has another type of loop called the `while` loop.  The general syntax for a while loop is \n",
        "\n",
        "`while condition:\n",
        "    # Code to repeat`\n",
        "    \n",
        "When python encounters a `while` loop, it checks to see if the condition is True.  If it is, then python runs the indented block of code.  Python then returns to the top of the `while` loop and starts over.  If the condition is ever False, then python will instead skip to the next line of un-indented code.  \n",
        "\n",
        "You should think of a `while` loop as a repeating `if` block.  Python repeats the `if` block over and over until the condition becomes False.  "
      ]
    },
    {
      "cell_type": "markdown",
      "metadata": {
        "id": "kFw6a_JPcUoG"
      },
      "source": [
        "The big advantage of a while loop is that you don't have to know the maximum number of steps beforehand.  (One of) the disadvantages is that python does not automatically track a loop variable for you.  The more important issue is that we still need to use `N` to initialize our array.  If we make `N` too small, then the array will not be able to hold all of our results and we will get an error when `n` becomes too large.  One possible solution to this issue is to use the `append` command to add new entries to `fib`.  Here is one way to solve our problem with a `while` loop.  (Note that we used the index -1 so that we would not need to keep track of the size of `fib`.) "
      ]
    },
    {
      "cell_type": "code",
      "metadata": {
        "id": "y85CH7RocUoG",
        "outputId": "bb98952d-11c7-499b-9b77-f2bc94a6a066"
      },
      "source": [
        "fib = np.zeros(2)\n",
        "fib[0] = 1\n",
        "fib[1] = 1\n",
        "\n",
        "while fib[-1] < 1000000:\n",
        "    fib = np.append(fib, fib[-1] + fib[-2])\n",
        "    \n",
        "fib = fib[:-1]\n",
        "print(fib)"
      ],
      "execution_count": null,
      "outputs": [
        {
          "output_type": "stream",
          "text": [
            "[1.00000e+00 1.00000e+00 2.00000e+00 3.00000e+00 5.00000e+00 8.00000e+00\n",
            " 1.30000e+01 2.10000e+01 3.40000e+01 5.50000e+01 8.90000e+01 1.44000e+02\n",
            " 2.33000e+02 3.77000e+02 6.10000e+02 9.87000e+02 1.59700e+03 2.58400e+03\n",
            " 4.18100e+03 6.76500e+03 1.09460e+04 1.77110e+04 2.86570e+04 4.63680e+04\n",
            " 7.50250e+04 1.21393e+05 1.96418e+05 3.17811e+05 5.14229e+05 8.32040e+05]\n"
          ],
          "name": "stdout"
        }
      ]
    },
    {
      "cell_type": "markdown",
      "metadata": {
        "id": "g8xUruc_cUoH"
      },
      "source": [
        "As we know, the `append` function can be quite slow because it has to copy the entire array.  There are clever strategies to minimize the number of times we use `append` here, but they are beyond the scope of this class.  "
      ]
    },
    {
      "cell_type": "markdown",
      "metadata": {
        "id": "zkaiYZ-xcUoH"
      },
      "source": [
        "### Infinite loops\n",
        "There is one very important point that you have to keep in mind when working with `while` loops.  It is possible that the condition in your loop never becomes False.  If this happens, then the loop will just repeat forever and your code will never stop running.  As a silly example, this code prints the number 1 forever: \n",
        "\n",
        "`while True:\n",
        "    print(1)`\n",
        "    \n",
        "We call such an example an *infinite loop*.  If you ever accidentally create one (and you almost certainly will if you use `while` loops), you can force PyCharm to stop running your code with the shortcut Ctrl+F2.  "
      ]
    }
  ]
}