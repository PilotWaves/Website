{
  "nbformat": 4,
  "nbformat_minor": 0,
  "metadata": {
    "kernelspec": {
      "display_name": "Python 3",
      "language": "python",
      "name": "python3"
    },
    "language_info": {
      "codemirror_mode": {
        "name": "ipython",
        "version": 3
      },
      "file_extension": ".py",
      "mimetype": "text/x-python",
      "name": "python",
      "nbconvert_exporter": "python",
      "pygments_lexer": "ipython3",
      "version": "3.8.5"
    },
    "colab": {
      "name": "Week2_3_python.ipynb",
      "provenance": [],
      "collapsed_sections": [
        "Ibfvnw0XmKFF",
        "Eu457EN3mKFY"
      ]
    }
  },
  "cells": [
    {
      "cell_type": "code",
      "metadata": {
        "id": "L0FtywlumKE6"
      },
      "source": [
        "import numpy as np"
      ],
      "execution_count": null,
      "outputs": []
    },
    {
      "cell_type": "markdown",
      "metadata": {
        "id": "pN5bRKBTmKE8"
      },
      "source": [
        "#Week 2 Coding Lecture 3: Functions\n",
        "Throughout this class, and throughout applied mathematics in general, we frequently need to work with mathematical functions like $f(x) = \\sin(x)$ or $f(x) = ax^2 + bx + c$.  As an example, in the activity this week you will write code that calculates the roots of these functions (i.e., values of $x$ such that $f(x) = 0$).  As you might imagine, the formula for the appropriate function will appear in numerous places in your code.  Some functions are pre-defined in python, and many more (such as $\\sin(x)$) are pre-defined in packages like `numpy`, but other functions (such as $ax^2 + bx + c$) are not.  This can be problematic, because it means we have to write out the formula for those functions in many different places.  Moreover, if we decide to change the formula then we will have to change many different lines of code, which is one of the most reliable ways to introduce typos and bugs into your code.  \n",
        "\n",
        "We already know a very common solution to this problem in mathematical notation: If we want to work with a complicated formula, we just give it a name.  This is what we mean when we write $f(x) = \\sin(x)$ or $g(x) = x^3$.  The name $f$ or $g$ is a replacement for the full formula.  \n",
        "\n",
        "Ideally, we would like to be able to apply the same idea to code.  In particular, it would be nice to say something like `f = np.sin(x)` or `f(x) = np.sin(x)` and then be able to use the variable `f` in place of the formula `sin(x)`.  Unfortunately, this exact syntax would not do what we want.  The line "
      ]
    },
    {
      "cell_type": "code",
      "metadata": {
        "id": "q0Qm9fAFmKE9"
      },
      "source": [
        "f = np.sin(x)"
      ],
      "execution_count": null,
      "outputs": []
    },
    {
      "cell_type": "markdown",
      "metadata": {
        "id": "BJg3UUDMmKE-"
      },
      "source": [
        "will either cause an error (because `x` is not defined) or set `f` equal to a number (because python will plug the value of `x` into `sin`).  Similarly, the line "
      ]
    },
    {
      "cell_type": "code",
      "metadata": {
        "id": "mnFonkSHmKE-",
        "outputId": "f3772727-89d2-4033-8265-d47f6a4d18d4"
      },
      "source": [
        "f(x) = sin(x)"
      ],
      "execution_count": null,
      "outputs": [
        {
          "output_type": "error",
          "ename": "SyntaxError",
          "evalue": "cannot assign to function call (<ipython-input-55-835c7207fefa>, line 1)",
          "traceback": [
            "\u001b[0;36m  File \u001b[0;32m\"<ipython-input-55-835c7207fefa>\"\u001b[0;36m, line \u001b[0;32m1\u001b[0m\n\u001b[0;31m    f(x) = sin(x)\u001b[0m\n\u001b[0m    ^\u001b[0m\n\u001b[0;31mSyntaxError\u001b[0m\u001b[0;31m:\u001b[0m cannot assign to function call\n"
          ]
        }
      ]
    },
    {
      "cell_type": "markdown",
      "metadata": {
        "id": "eJ-H9zx5mKE-"
      },
      "source": [
        "will not work as intended.  We will see what the phrase \"function call\" in the error message means later in these notes.  \n",
        "\n",
        "One thing that will work in this example is "
      ]
    },
    {
      "cell_type": "code",
      "metadata": {
        "id": "eeD6ALu9mKE_"
      },
      "source": [
        "f = np.sin"
      ],
      "execution_count": null,
      "outputs": []
    },
    {
      "cell_type": "markdown",
      "metadata": {
        "id": "QNQRkIFkmKE_"
      },
      "source": [
        "This actually does exactly what we want, and from now on we can use `f` in place of `np.sin`.  For instance, "
      ]
    },
    {
      "cell_type": "code",
      "metadata": {
        "id": "pflfTWM7mKE_",
        "outputId": "fa4be042-e9de-4b7a-a253-1a6ee99b3158"
      },
      "source": [
        "f(10)"
      ],
      "execution_count": null,
      "outputs": [
        {
          "output_type": "execute_result",
          "data": {
            "text/plain": [
              "-0.5440211108893698"
            ]
          },
          "metadata": {
            "tags": []
          },
          "execution_count": 57
        }
      ]
    },
    {
      "cell_type": "markdown",
      "metadata": {
        "id": "RX8EyjdRmKFA"
      },
      "source": [
        "Unfortunately, this only works because `np.sin` has already been defined, and so it won't help us with more complicated formulas.  "
      ]
    },
    {
      "cell_type": "markdown",
      "metadata": {
        "id": "NGO1CjFCmKFB"
      },
      "source": [
        "## Review\n",
        "Before we talk about how to write a function, let's briefly review what they are and how to use them.  Throughout this document, I will refer to functions in the numpy package as \"python functions\".  As you know, in order to use those functions, you have to import the numpy package and then append the name of the function with `np.`.  You have already seen quite a few python functions.  For example, `sin` and `cos` are functions, as are `append` and `print`.  Python functions are essentially just prewritten chunks of code that you can run by using their name.  You can tell python to run a function by writing the name (possibly appended with a package name like `np.`) followed by parentheses and a list of some number of input values called \"arguments\".  This process is known as \"calling\" the function.  For example, the function `print` does not need any arguments, so you can call it by typing the name and a set of parentheses: "
      ]
    },
    {
      "cell_type": "code",
      "metadata": {
        "id": "MKNAzAYOmKFC",
        "outputId": "625ff152-dce6-4c73-de0f-d2a516327db8"
      },
      "source": [
        "print()"
      ],
      "execution_count": null,
      "outputs": [
        {
          "output_type": "stream",
          "text": [
            "\n"
          ],
          "name": "stdout"
        }
      ]
    },
    {
      "cell_type": "markdown",
      "metadata": {
        "id": "aUp9wcCZmKFC"
      },
      "source": [
        "(We've never actually used that feature before, but if you don't give an argument to `print`, it just prints a blank line.)  \n",
        "\n",
        "The function `sin` takes one argument (an angle in radians), so you can call it by typing the name and then a number in parentheses: "
      ]
    },
    {
      "cell_type": "code",
      "metadata": {
        "id": "K8kvMxymmKFC",
        "outputId": "f5ec0e27-0a8f-4794-c036-90b520d6cbfe"
      },
      "source": [
        "np.sin(4)"
      ],
      "execution_count": null,
      "outputs": [
        {
          "output_type": "execute_result",
          "data": {
            "text/plain": [
              "-0.7568024953079282"
            ]
          },
          "metadata": {
            "tags": []
          },
          "execution_count": 59
        }
      ]
    },
    {
      "cell_type": "markdown",
      "metadata": {
        "id": "UIHgphr9mKFD"
      },
      "source": [
        "The function `append` takes two arguments - an array and a number - and so you can call it by typing the name `append`, followed by parentheses enclosing an array and a number, each separated by a comma.  For instance: "
      ]
    },
    {
      "cell_type": "code",
      "metadata": {
        "id": "xgzYTIUrmKFD",
        "outputId": "4f53bd2b-43eb-48a9-eed7-2e91004de00d"
      },
      "source": [
        "y = np.array([1, 2, 3, 4])\n",
        "np.append(y, 5)"
      ],
      "execution_count": null,
      "outputs": [
        {
          "output_type": "execute_result",
          "data": {
            "text/plain": [
              "array([1, 2, 3, 4, 5])"
            ]
          },
          "metadata": {
            "tags": []
          },
          "execution_count": 60
        }
      ]
    },
    {
      "cell_type": "markdown",
      "metadata": {
        "id": "SF05pPqOmKFD"
      },
      "source": [
        "Functions also have an output (called a \"return value\").  You can assign that value to a variable when you call the function.  For instance, the return value of `sin` is just the sine of the argument.  As we have already seen, you can assign the return value of `sin` to a variable by writing "
      ]
    },
    {
      "cell_type": "code",
      "metadata": {
        "id": "Cd4DKVWdmKFE"
      },
      "source": [
        "x = np.sin(4)"
      ],
      "execution_count": null,
      "outputs": []
    },
    {
      "cell_type": "markdown",
      "metadata": {
        "id": "alAoFDCWmKFE"
      },
      "source": [
        "Similarly, the return value of the function `append` is an array with one more entry than the one given as an argument.  You can assign this array to a variable like so: "
      ]
    },
    {
      "cell_type": "code",
      "metadata": {
        "id": "QUMYVMLHmKFE"
      },
      "source": [
        "z = np.append(y, 5)"
      ],
      "execution_count": null,
      "outputs": []
    },
    {
      "cell_type": "markdown",
      "metadata": {
        "id": "Yp-oJvaMmKFE"
      },
      "source": [
        "Some functions, like `print`, aren't really meant to return anything.  If you try to use them in an assignment then you will get a value called `None`.  We will mostly ignore that feature in this class.  "
      ]
    },
    {
      "cell_type": "code",
      "metadata": {
        "id": "tcM-IbeemKFE",
        "outputId": "10630d27-64c1-436d-fe28-99b0a45cd7f2"
      },
      "source": [
        "x = print(\"Some text\")"
      ],
      "execution_count": null,
      "outputs": [
        {
          "output_type": "stream",
          "text": [
            "Some text\n"
          ],
          "name": "stdout"
        }
      ]
    },
    {
      "cell_type": "code",
      "metadata": {
        "id": "hyEJcHMBmKFF",
        "outputId": "99559b47-a0d7-4982-c28d-1a634b76a47a"
      },
      "source": [
        "print(x)"
      ],
      "execution_count": null,
      "outputs": [
        {
          "output_type": "stream",
          "text": [
            "None\n"
          ],
          "name": "stdout"
        }
      ]
    },
    {
      "cell_type": "markdown",
      "metadata": {
        "id": "79pL7c-DmKFF"
      },
      "source": [
        "Functions can only ever have one return value, although that value is allowed to be a list or array (or any other type).  "
      ]
    },
    {
      "cell_type": "markdown",
      "metadata": {
        "id": "Ibfvnw0XmKFF"
      },
      "source": [
        "## Writing your own functions\n",
        "To define your own functions, you need to specify the function name, any arguments and return values, as well as the code that python will run when the function is called.  There are two different ways to write a function in python (well, there are several more related versions, but we will only use these two): Anonymous functions and normal functions.  (The word \"normal\" is not part of the name.  Somewhat ironically, python doesn't have a name for non-anonymous functions.  If I need to specify non-anonymous functions, I will say so explicitly.)  Each of these has slightly different syntax and can be used in slightly different ways.  "
      ]
    },
    {
      "cell_type": "markdown",
      "metadata": {
        "id": "p6Kfo6wumKFF"
      },
      "source": [
        "## Anonymous functions\n",
        "The first type of function we will encounter is called an \"anonymous function\".  You can define it with the following syntax: \n",
        "\n",
        "`function_name = lambda list_of_argument_names: one_line_of_code`\n",
        "\n",
        "For example, we can define the function $f(x) = 3x + 5$ with the code "
      ]
    },
    {
      "cell_type": "code",
      "metadata": {
        "id": "8mVFdY7-mKFF"
      },
      "source": [
        "f = lambda x: 3 * x + 5"
      ],
      "execution_count": null,
      "outputs": []
    },
    {
      "cell_type": "markdown",
      "metadata": {
        "id": "XuSRVKNjmKFG"
      },
      "source": [
        "You can now call this function by writing its name followed by a value of `x` in parentheses.  For example, "
      ]
    },
    {
      "cell_type": "code",
      "metadata": {
        "id": "Il71v54mmKFG",
        "outputId": "3cfd15b8-153c-424f-89c1-c811b97ea1e3"
      },
      "source": [
        "f(4)"
      ],
      "execution_count": null,
      "outputs": [
        {
          "output_type": "execute_result",
          "data": {
            "text/plain": [
              "17"
            ]
          },
          "metadata": {
            "tags": []
          },
          "execution_count": 66
        }
      ]
    },
    {
      "cell_type": "code",
      "metadata": {
        "id": "hRJvk3gdmKFG",
        "outputId": "f1bbfeed-d407-4133-921a-856a00b884f5"
      },
      "source": [
        "y = f(3)\n",
        "print(y)"
      ],
      "execution_count": null,
      "outputs": [
        {
          "output_type": "stream",
          "text": [
            "14\n"
          ],
          "name": "stdout"
        }
      ]
    },
    {
      "cell_type": "code",
      "metadata": {
        "id": "4OywatGmmKFG",
        "outputId": "d331b20e-6f62-4030-b254-9c60bd9c6d09"
      },
      "source": [
        "z = f(3) - f(2) + 3\n",
        "print(z)"
      ],
      "execution_count": null,
      "outputs": [
        {
          "output_type": "stream",
          "text": [
            "6\n"
          ],
          "name": "stdout"
        }
      ]
    },
    {
      "cell_type": "markdown",
      "metadata": {
        "id": "9xuDo7aZmKFH"
      },
      "source": [
        "There are a few important things to notice about this definition.  \n",
        "\n",
        "1) `f` is now a variable in memory.  Its type is `function`, which you can see with the `type` command.  "
      ]
    },
    {
      "cell_type": "code",
      "metadata": {
        "id": "LyNhrPy5mKFH",
        "outputId": "eeeaf200-9bbb-4b46-d68d-6b22ee71da88"
      },
      "source": [
        "print(type(f))"
      ],
      "execution_count": null,
      "outputs": [
        {
          "output_type": "stream",
          "text": [
            "<class 'function'>\n"
          ],
          "name": "stdout"
        }
      ]
    },
    {
      "cell_type": "markdown",
      "metadata": {
        "id": "5QDZ1KqWmKFH"
      },
      "source": [
        "2) `x` is *not* a variable in memory.  (Actually, this may or may not be true for you, because you might have already defined `x` somewhere else, but `x` does not have to be a variable.  You can prove this to yourself by starting a blank script or a new console session, defining `f` as above and then trying to print the value of `x`.)  This is very important - arguments like `x` can be used in the code for a function even though they are not already defined.  \n",
        "\n",
        "3) When you call a function, the argument you give in parentheses is used as the value of `x`.  For instance, if you write `f(4)`, then python will use 4 as the value of `x`.  \n",
        "\n",
        "4) The return value is whatever the one line of code evaluates to.  If you write `f(4)`, then the return value is `3 * 4 + 5`, which is `17`.  \n",
        "\n",
        "It is also worth noting that the `function_name` is optional (which is why these are called \"anonymous\").  It will occasionally be useful to create a function without actually naming it, such as "
      ]
    },
    {
      "cell_type": "code",
      "metadata": {
        "id": "Zyf82yBdmKFJ",
        "outputId": "5b8ebe8c-bbd2-46a2-9511-686c65962ab6"
      },
      "source": [
        "print(lambda x: 3 * x + 5)"
      ],
      "execution_count": null,
      "outputs": [
        {
          "output_type": "stream",
          "text": [
            "<function <lambda> at 0x7efca01e0310>\n"
          ],
          "name": "stdout"
        }
      ]
    },
    {
      "cell_type": "markdown",
      "metadata": {
        "id": "TZpIVcUwmKFK"
      },
      "source": [
        "(Don't worry about the numer that got printed out.  It is irrelevant for our class.)"
      ]
    },
    {
      "cell_type": "markdown",
      "metadata": {
        "id": "IJXA5KhCmKFK"
      },
      "source": [
        "The behavior of the argument `x` might seem particularly strange.  As we already saw, neither defining nor calling this function defines a variable named `x`.  What's more, if you try this code: "
      ]
    },
    {
      "cell_type": "code",
      "metadata": {
        "id": "EVhiC1wWmKFL",
        "outputId": "a2bb220e-a350-4f8c-ac43-8b727849ed61"
      },
      "source": [
        "x = 2\n",
        "f = lambda x: 3 * x + 5\n",
        "y = f(10)\n",
        "print(x)"
      ],
      "execution_count": null,
      "outputs": [
        {
          "output_type": "stream",
          "text": [
            "2\n"
          ],
          "name": "stdout"
        }
      ]
    },
    {
      "cell_type": "markdown",
      "metadata": {
        "id": "-a_M1oWLmKFL"
      },
      "source": [
        "you can see that defining/calling `f` does not affect any other variables named `x`.  This is because the arguments of the function have something called *local scope*.  The variable `x` from the definition of `x` can only be seen by python while python is running `f`, and this `x` will not interfere with any variables that aren't in the function body.  In essence, python is giving `f` its own private section of memory whenever you call it.  For instance, when python executes the line `y = f(10)` above, it will make a private section of memory for `f` with a variable named `x` that has the value `10`.  This private memory is completely separate from the memory for the rest of your script.  \n",
        "\n",
        "Other variables you define in your script (including the variable `f` itself) live in something called the *global scope*.  As we have already seen, any code in your script can access and modify any other variables in the global scope.  (As a side note, in python \"global scope\" is really restricted to a single file.  If you write another script in another file, the two files cannot share variables.  I mention this because it is not true in some other languages like MATLAB.  If you run one MATLAB script and then another, the second script can both access and modify the variables created by the first script.)  \n",
        "\n",
        "As a general rule, functions can see/access variables from the global scope, but they cannot modify those variables.  As an example, "
      ]
    },
    {
      "cell_type": "code",
      "metadata": {
        "id": "Orq12HMjmKFM",
        "outputId": "faacadcc-480f-4ee1-85f3-8e4e1fa12990"
      },
      "source": [
        "a = 2\n",
        "f = lambda x: a * x\n",
        "print(f(3))"
      ],
      "execution_count": null,
      "outputs": [
        {
          "output_type": "stream",
          "text": [
            "6\n"
          ],
          "name": "stdout"
        }
      ]
    },
    {
      "cell_type": "markdown",
      "metadata": {
        "id": "1z--nnYgmKFN"
      },
      "source": [
        "The function `f` can access the variable `a`, and so we are allowed to use `a` in the function definition, even though it is not one of the arguments.  It is important to note that `f` looks up the value of `a` every time you call it.  This means that if `a` changes, then the result of future calls of `f` will also change.  "
      ]
    },
    {
      "cell_type": "code",
      "metadata": {
        "id": "yQeHWQgvmKFO",
        "outputId": "efd7e2ce-17d1-4080-b280-fd0ca1fbb95a"
      },
      "source": [
        "a = 2\n",
        "f = lambda x: a * x\n",
        "print(f(3))\n",
        "a = 10\n",
        "print(f(3))"
      ],
      "execution_count": null,
      "outputs": [
        {
          "output_type": "stream",
          "text": [
            "6\n",
            "30\n"
          ],
          "name": "stdout"
        }
      ]
    },
    {
      "cell_type": "markdown",
      "metadata": {
        "id": "cfnC023TmKFO"
      },
      "source": [
        "This behavior is different than that of some other languages like MATLAB, where the value of `a` is essentially \"locked in\" when the function is defined.  "
      ]
    },
    {
      "cell_type": "markdown",
      "metadata": {
        "id": "INf3eEZzmKFO"
      },
      "source": [
        "It's also worth noting that the name of the argument does not matter, as long as you are consistent.  That is, if you use the name `x` in the argument list then you also need to use the name `x` when you refer to that argument in the function body.  For example, the following are exactly equivalent: "
      ]
    },
    {
      "cell_type": "code",
      "metadata": {
        "id": "3--9JgFomKFO"
      },
      "source": [
        "f = lambda x: 3 * x + 5\n",
        "f = lambda z: 3 * z + 5\n",
        "f = lambda this_is_a_silly_variable_name123: 3 * this_is_a_silly_variable_name123 + 5"
      ],
      "execution_count": null,
      "outputs": []
    },
    {
      "cell_type": "markdown",
      "metadata": {
        "id": "_QAFXk9KmKFO"
      },
      "source": [
        "However, the line "
      ]
    },
    {
      "cell_type": "code",
      "metadata": {
        "id": "NjsgwfhKmKFP"
      },
      "source": [
        "f = lambda x: 3 * y + 5"
      ],
      "execution_count": null,
      "outputs": []
    },
    {
      "cell_type": "markdown",
      "metadata": {
        "id": "JIjH1vt1mKFP"
      },
      "source": [
        "will not do what you want.  Python will happily define the function `f` without checking the value of `y`.  When try to call `f`, python will check the global scope for a variable named `y`.  If it exists, python will use that value in the expression `3 * y + 5`, but if it does not exist then python will throw an error.  It is almost always a mistake to write something like this.  "
      ]
    },
    {
      "cell_type": "markdown",
      "metadata": {
        "id": "VwYXkmkgmKFP"
      },
      "source": [
        "It is also worth noting that you aren't restricted to just using hard coded numbers as arguments when you call a function.  Anything that evaluates to a variable of the appropriate type (in most of our cases, the appropriate type is any numeric type like a `float` or an `int`) is fine. For instance, "
      ]
    },
    {
      "cell_type": "code",
      "metadata": {
        "id": "3a9LLQ-6mKFP",
        "outputId": "6dc949af-2d7f-4b5c-bc91-b6781fc8bc88"
      },
      "source": [
        "f = lambda x: 3 * x + 5\n",
        "x = 4\n",
        "y = np.pi\n",
        "print(f(x))"
      ],
      "execution_count": null,
      "outputs": [
        {
          "output_type": "stream",
          "text": [
            "17\n"
          ],
          "name": "stdout"
        }
      ]
    },
    {
      "cell_type": "code",
      "metadata": {
        "id": "34Q8QSE6mKFP",
        "outputId": "7106b106-6e5f-4b96-cb86-11a8eba579ce"
      },
      "source": [
        "print(f(y))"
      ],
      "execution_count": null,
      "outputs": [
        {
          "output_type": "stream",
          "text": [
            "14.42477796076938\n"
          ],
          "name": "stdout"
        }
      ]
    },
    {
      "cell_type": "code",
      "metadata": {
        "id": "fNRlqj-fmKFQ",
        "outputId": "56b49651-ce90-49d7-da39-4a1c5f1b3fa7"
      },
      "source": [
        "print(f(x - 2 * y))"
      ],
      "execution_count": null,
      "outputs": [
        {
          "output_type": "stream",
          "text": [
            "-1.8495559215387587\n"
          ],
          "name": "stdout"
        }
      ]
    },
    {
      "cell_type": "markdown",
      "metadata": {
        "id": "p5-0pPNFmKFQ"
      },
      "source": [
        "Again, notice that there is no confusion with variable names, even though we used `x` in the definition of `f` and also used it when calling the function.  The `x` you defined outside the function is completely separate from the argument in your function definition.  \n",
        "You can use this syntax to define functions with any number of arguments.  For instance, "
      ]
    },
    {
      "cell_type": "code",
      "metadata": {
        "id": "xSIbi_IumKFR",
        "outputId": "2accd087-8d1a-49a4-caa7-502e87d7570c"
      },
      "source": [
        "f = lambda x, y: x ** 2 + y\n",
        "print(f(2, 3))"
      ],
      "execution_count": null,
      "outputs": [
        {
          "output_type": "stream",
          "text": [
            "7\n"
          ],
          "name": "stdout"
        }
      ]
    },
    {
      "cell_type": "code",
      "metadata": {
        "id": "Wkn-RXxZmKFR",
        "outputId": "7aa241d5-1658-45b2-d7b4-dddfed67300f"
      },
      "source": [
        "print(f(3, 2))"
      ],
      "execution_count": null,
      "outputs": [
        {
          "output_type": "stream",
          "text": [
            "11\n"
          ],
          "name": "stdout"
        }
      ]
    },
    {
      "cell_type": "code",
      "metadata": {
        "id": "8MOFTNTcmKFS",
        "outputId": "f888bbb3-303a-4713-8cfa-2cad18ee1903"
      },
      "source": [
        "g = lambda a, b, c, x, y, z: a + 2 * b - c + x ** 2 - y ** 2 + 3 * z ** 3\n",
        "print(g(1, 2, 3, 4, 5, 6))"
      ],
      "execution_count": null,
      "outputs": [
        {
          "output_type": "stream",
          "text": [
            "641\n"
          ],
          "name": "stdout"
        }
      ]
    },
    {
      "cell_type": "code",
      "metadata": {
        "id": "hMBB11YymKFU",
        "outputId": "0ca7c029-d1cb-437b-fa6e-dc63563668c6"
      },
      "source": [
        "h = lambda : 2 * np.pi\n",
        "h()"
      ],
      "execution_count": null,
      "outputs": [
        {
          "output_type": "execute_result",
          "data": {
            "text/plain": [
              "6.283185307179586"
            ]
          },
          "metadata": {
            "tags": []
          },
          "execution_count": 82
        }
      ]
    },
    {
      "cell_type": "markdown",
      "metadata": {
        "id": "ErDDBQmEmKFV"
      },
      "source": [
        "Notice that the order of the argument matters.  In the above example, the first argument of `f` is used as `x` and the second argument is used as `y`.  That's why `f(2, 3)` and `f(3, 2)` are not the same.  "
      ]
    },
    {
      "cell_type": "markdown",
      "metadata": {
        "id": "lD6ox6p5mKFV"
      },
      "source": [
        "## Non-anonymous functions (aka \"functions\")\n",
        "Anonymous functions are useful, but quite limited.  The biggest problem is that they are limited to one line of code.  (More specifically, they are limited to a single expression.  This distinction doesn't really matter to us, but it's worth noting that an assignment like `x = 3` is not an expression, so you cannot use it in an anonymous function.)  In particular, you cannot include an `if` statement or a loop inside an anonymous function, because those require more than one line of code.  If you want to use a more complicated function in one of your scripts, you can write a normal function.  \n",
        "\n",
        "Function definitions have the following syntax: \n",
        "\n",
        "`def function_name(list_of_arguments):\n",
        "    # As much code as you want\n",
        "    return return_value`\n",
        "    \n",
        "As an example, we can make a function for the formula $y = 2x^3 + 11$ with the code"
      ]
    },
    {
      "cell_type": "code",
      "metadata": {
        "id": "hDRY2qrOmKFV"
      },
      "source": [
        "def my_first_function(x):\n",
        "    y = 2 * x ** 3 + 11\n",
        "    return y"
      ],
      "execution_count": null,
      "outputs": []
    },
    {
      "cell_type": "markdown",
      "metadata": {
        "id": "UliXxUs7mKFV"
      },
      "source": [
        "You can now call this function from anywhere in your script *after* the function definition by using"
      ]
    },
    {
      "cell_type": "code",
      "metadata": {
        "id": "fVcyWD-RmKFV",
        "outputId": "2400eb37-a97e-496a-b40b-7ebe42fc3ad9"
      },
      "source": [
        "my_first_function(3)"
      ],
      "execution_count": null,
      "outputs": [
        {
          "output_type": "execute_result",
          "data": {
            "text/plain": [
              "65"
            ]
          },
          "metadata": {
            "tags": []
          },
          "execution_count": 84
        }
      ]
    },
    {
      "cell_type": "markdown",
      "metadata": {
        "id": "IhhHL8cqmKFW"
      },
      "source": [
        "The words `def` and `return` are keywords in python.  The function definition must always start with a `def` and end with a `:`.  The `function_name` can be any legal python name (letters, numbers and underscores are allowed and you have to start with a letter or underscore).  All of the code in the function body, including the line with `return`, must be indented, just like in a loop or conditional statement.  \n",
        "\n",
        "The `list_of_argument_names` works exactly the same as in an anonymous function.  We have only used one variable here (`x`), but we can list as many as we want and separate them with commas.  Just like with anonymous functions, these arguments exist in their own local scope (i.e., a private section of memory) and cannot be accessed or modified by any code outside of the function.  \n",
        "\n",
        "The `return_value` is an expression that evaluates to whatever you want the function to return.  It is common to assign your return value to a variable and then use that variable name as the `return_value`, but you can put any expression you want after the return.  For instance, we could rewrite the same function as "
      ]
    },
    {
      "cell_type": "code",
      "metadata": {
        "id": "ej-an2ezmKFW",
        "outputId": "1b1c58b1-ae39-4837-d048-db57b7cf5579"
      },
      "source": [
        "def my_first_function(x):\n",
        "    return 2 * x ** 3 + 11\n",
        "\n",
        "print(my_first_function(3))"
      ],
      "execution_count": null,
      "outputs": [
        {
          "output_type": "stream",
          "text": [
            "65\n"
          ],
          "name": "stdout"
        }
      ]
    },
    {
      "cell_type": "markdown",
      "metadata": {
        "id": "wK-5hZbzmKFW"
      },
      "source": [
        "You are technically allowed to put code in lines after the `return`, but python will not run any code in a function after it encounters a `return`.  \n",
        "\n",
        "Let's try a more complicated example.  In particular, let's make a function that will return the absolute value of its argument.  Of course, there is already a builtin function `abs` for this purpose, but let's use the code we wrote in the last lecture: "
      ]
    },
    {
      "cell_type": "code",
      "metadata": {
        "id": "CRC4uSpkmKFW"
      },
      "source": [
        "def my_abs(x):\n",
        "    if x >= 0:\n",
        "        abs_x = x\n",
        "    else:\n",
        "        abs_x = -x\n",
        "    return abs_x"
      ],
      "execution_count": null,
      "outputs": []
    },
    {
      "cell_type": "markdown",
      "metadata": {
        "id": "FuVpXZRMmKFW"
      },
      "source": [
        "Now that this function is defined, we can call it as usual.  For example, "
      ]
    },
    {
      "cell_type": "code",
      "metadata": {
        "id": "FFnyTuu6mKFW",
        "outputId": "5ff8dd26-c80c-486a-bf4c-775348328848"
      },
      "source": [
        "print(my_abs(-12))"
      ],
      "execution_count": null,
      "outputs": [
        {
          "output_type": "stream",
          "text": [
            "12\n"
          ],
          "name": "stdout"
        }
      ]
    },
    {
      "cell_type": "code",
      "metadata": {
        "id": "Ewjztyt8mKFX",
        "outputId": "2ae453b4-d6bb-415d-9e99-07b32ccca56c"
      },
      "source": [
        "print(my_abs(5))"
      ],
      "execution_count": null,
      "outputs": [
        {
          "output_type": "stream",
          "text": [
            "5\n"
          ],
          "name": "stdout"
        }
      ]
    },
    {
      "cell_type": "markdown",
      "metadata": {
        "id": "ulhWw0DumKFX"
      },
      "source": [
        "As another example, let's make a function that will return the first $N$ Fibonacci numbers.  We will use three arguments: `F1` and `F2` will be the first two Fibonacci numbers (these are usually both 1, but they don't have to be) and `N` will be the total number of values that we want to calculate.  The output will be a 1D array with the first $N$ Fibonacci numbers.  "
      ]
    },
    {
      "cell_type": "code",
      "metadata": {
        "id": "nStvIVpZmKFX"
      },
      "source": [
        "def first_N_fib(F1, F2, N):\n",
        "    fib = np.zeros(N)\n",
        "    fib[0] = F1\n",
        "    fib[1] = F2\n",
        "    \n",
        "    for n in range(2, N):\n",
        "        fib[n] = fib[n - 1] + fib[n - 2]\n",
        "    return fib"
      ],
      "execution_count": null,
      "outputs": []
    },
    {
      "cell_type": "markdown",
      "metadata": {
        "id": "Lg6pueWdmKFX"
      },
      "source": [
        "Now that this function is defined, if we want to calculate the first ten Fibonacci numbers we can just use "
      ]
    },
    {
      "cell_type": "code",
      "metadata": {
        "id": "ViVLPyuUmKFX",
        "outputId": "03059b7e-4a19-4e37-9c31-558f6f916ed1"
      },
      "source": [
        "print(first_N_fib(1, 1, 10))"
      ],
      "execution_count": null,
      "outputs": [
        {
          "output_type": "stream",
          "text": [
            "[ 1.  1.  2.  3.  5.  8. 13. 21. 34. 55.]\n"
          ],
          "name": "stdout"
        }
      ]
    },
    {
      "cell_type": "markdown",
      "metadata": {
        "id": "Eu457EN3mKFY"
      },
      "source": [
        "## Importing Functions\n",
        "Very often you will want to write a function once and then use it in many different scripts.  For example, in this week's activity you will write a function to calculate the roots of an arbitrary function.  This is the sort of algorithm that might come up in many different applications.  It would be tedious (and error prone) to rewrite this function definition in every script that needed to find the root of a function.  Fortunately, there is a way to get function definitions from a different file into your script.  For example, suppose you had a file called `fibonacci.py` that contained the above function definition for `first_N_fib`.  You could use the code \n",
        "\n",
        "`import fibonacci`\n",
        "\n",
        "to gain access to this function.  From then on, you could use the code \n",
        "\n",
        "`fibonacci.first_N_fib(1, 1, 10)`\n",
        "\n",
        "to calculate the first 10 Fibonacci numbers.  \n",
        "\n",
        "It's important to note that the `import` statement runs the entire  file you are importing.  In this case, the statement `import fibonacci` runs the entire file `fibonacci.py`.  If `fibonacci.py` is nothing but function definitions, then this is probably exactly what you want, but if `fibonacci` is littered with `print` statements or other code, those will also be run.  \n",
        "\n",
        "We won't import our own functions very often in this class.  For one thing, most of our code is small enough and self-contained enough for such a method to be unnecessary.  For another thing, Gradescope does not allow uploading multiple files.  "
      ]
    },
    {
      "cell_type": "markdown",
      "metadata": {
        "id": "M3Gd8Lf7mKFY"
      },
      "source": [
        "## Shadowing\n",
        "Now that you can define your own functions, it is possible for you to define a function with the same name as a builtin python function.  As a silly example, you could define your own function `print` with the code"
      ]
    },
    {
      "cell_type": "code",
      "metadata": {
        "id": "6oN21RmqmKFZ"
      },
      "source": [
        "def print(x):\n",
        "    return x ** 2"
      ],
      "execution_count": null,
      "outputs": []
    },
    {
      "cell_type": "markdown",
      "metadata": {
        "id": "UWyIogDtmKFZ"
      },
      "source": [
        "From now on, if you try to use the `print` function, python will find this version instead of the builtin version.  This can lead to problems: "
      ]
    },
    {
      "cell_type": "code",
      "metadata": {
        "id": "ohb4vBWomKFZ",
        "outputId": "573f6526-20f1-4cda-d8ef-b026fa8b2564"
      },
      "source": [
        "print(3)"
      ],
      "execution_count": null,
      "outputs": [
        {
          "output_type": "execute_result",
          "data": {
            "text/plain": [
              "9"
            ]
          },
          "metadata": {
            "tags": []
          },
          "execution_count": 92
        }
      ]
    },
    {
      "cell_type": "code",
      "metadata": {
        "id": "vqNeTmAtmKFZ",
        "outputId": "f125cd78-68b3-4662-ead6-b67c4fb55909"
      },
      "source": [
        "print(\"This is some text\")"
      ],
      "execution_count": null,
      "outputs": [
        {
          "output_type": "error",
          "ename": "TypeError",
          "evalue": "unsupported operand type(s) for ** or pow(): 'str' and 'int'",
          "traceback": [
            "\u001b[0;31m---------------------------------------------------------------------------\u001b[0m",
            "\u001b[0;31mTypeError\u001b[0m                                 Traceback (most recent call last)",
            "\u001b[0;32m<ipython-input-93-c8f8ec63071e>\u001b[0m in \u001b[0;36m<module>\u001b[0;34m\u001b[0m\n\u001b[0;32m----> 1\u001b[0;31m \u001b[0mprint\u001b[0m\u001b[0;34m(\u001b[0m\u001b[0;34m\"This is some text\"\u001b[0m\u001b[0;34m)\u001b[0m\u001b[0;34m\u001b[0m\u001b[0;34m\u001b[0m\u001b[0m\n\u001b[0m",
            "\u001b[0;32m<ipython-input-91-caefd7b8c5ce>\u001b[0m in \u001b[0;36mprint\u001b[0;34m(x)\u001b[0m\n\u001b[1;32m      1\u001b[0m \u001b[0;32mdef\u001b[0m \u001b[0mprint\u001b[0m\u001b[0;34m(\u001b[0m\u001b[0mx\u001b[0m\u001b[0;34m)\u001b[0m\u001b[0;34m:\u001b[0m\u001b[0;34m\u001b[0m\u001b[0;34m\u001b[0m\u001b[0m\n\u001b[0;32m----> 2\u001b[0;31m     \u001b[0;32mreturn\u001b[0m \u001b[0mx\u001b[0m \u001b[0;34m**\u001b[0m \u001b[0;36m2\u001b[0m\u001b[0;34m\u001b[0m\u001b[0;34m\u001b[0m\u001b[0m\n\u001b[0m",
            "\u001b[0;31mTypeError\u001b[0m: unsupported operand type(s) for ** or pow(): 'str' and 'int'"
          ]
        }
      ]
    },
    {
      "cell_type": "markdown",
      "metadata": {
        "id": "E-4Ix_UamKFa"
      },
      "source": [
        "We say that we have \"shadowed\" the original function.  It still exists, but we cannot access it because we took the name `print` and used it for something else.  (There isn't really anything special about defining a function here; if we had made any variable with the name `print`, it would have shadowed the builtin function.)  In a script, you should change the name of your function if this comes up.  If you accidentally do this in a console or Jupyter notebook, you can get rid of your version with the command "
      ]
    },
    {
      "cell_type": "code",
      "metadata": {
        "id": "XZhT3VCOmKFa"
      },
      "source": [
        "del print"
      ],
      "execution_count": null,
      "outputs": []
    },
    {
      "cell_type": "markdown",
      "metadata": {
        "id": "2mM8kyDtmKFa"
      },
      "source": [
        "Now we can use the original `print` command as normal.  "
      ]
    },
    {
      "cell_type": "code",
      "metadata": {
        "id": "bSwJu8IYmKFa",
        "outputId": "c01401b5-fff8-4d84-a3c2-5331fdd6859f"
      },
      "source": [
        "print(\"This is some text\")"
      ],
      "execution_count": null,
      "outputs": [
        {
          "output_type": "stream",
          "text": [
            "This is some text\n"
          ],
          "name": "stdout"
        }
      ]
    }
  ]
}